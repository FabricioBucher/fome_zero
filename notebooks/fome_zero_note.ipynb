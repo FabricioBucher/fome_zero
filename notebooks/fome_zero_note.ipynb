{
 "cells": [
  {
   "cell_type": "markdown",
   "metadata": {
    "tags": []
   },
   "source": [
    "# 0.0) IMPORTS"
   ]
  },
  {
   "cell_type": "code",
   "execution_count": 1,
   "metadata": {},
   "outputs": [],
   "source": [
    "import pandas as pd\n",
    "import numpy as np\n",
    "import streamlit as st\n",
    "import plotly.express as px\n",
    "\n",
    "import inflection"
   ]
  },
  {
   "cell_type": "markdown",
   "metadata": {
    "tags": []
   },
   "source": [
    "## 0.1) Helper Variables"
   ]
  },
  {
   "cell_type": "code",
   "execution_count": 2,
   "metadata": {},
   "outputs": [],
   "source": [
    "PATH = \"dataset/zomato.csv\"\n",
    "\n",
    "COUNTRIES = {\n",
    "    1: \"India\",\n",
    "    14: \"Australia\",\n",
    "    30: \"Brazil\",\n",
    "    37: \"Canada\",\n",
    "    94: \"Indonesia\",\n",
    "    148: \"New Zeland\",\n",
    "    162: \"Philippines\",\n",
    "    166: \"Qatar\",\n",
    "    184: \"Singapure\",\n",
    "    189: \"South Africa\",\n",
    "    191: \"Sri Lanka\",\n",
    "    208: \"Turkey\",\n",
    "    214: \"United Arab Emirates\",\n",
    "    215: \"England\",\n",
    "    216: \"United States of America\",\n",
    "}\n",
    "\n",
    "\n",
    "COLORS = {\n",
    "    \"3F7E00\": \"darkgreen\",\n",
    "    \"5BA829\": \"green\",\n",
    "    \"9ACD32\": \"lightgreen\",\n",
    "    \"CDD614\": \"orange\",\n",
    "    \"FFBA00\": \"red\",\n",
    "    \"CBCBC8\": \"darkred\",\n",
    "    \"FF7800\": \"darkred\",\n",
    "}"
   ]
  },
  {
   "cell_type": "code",
   "execution_count": 3,
   "metadata": {},
   "outputs": [],
   "source": [
    "pd.set_option('display.max_rows', 50)\n",
    "pd.set_option('display.max_columns', 50)"
   ]
  },
  {
   "cell_type": "markdown",
   "metadata": {
    "tags": []
   },
   "source": [
    "## 0.2) Helper Functions"
   ]
  },
  {
   "cell_type": "code",
   "execution_count": 4,
   "metadata": {},
   "outputs": [],
   "source": [
    "def RenameColumns(df):\n",
    "    cols = []\n",
    "    for i in df1.columns:\n",
    "        cols.append(i.replace(' ', '_').lower().lstrip().rstrip())\n",
    "    df.columns= cols\n",
    "\n",
    "    return df"
   ]
  },
  {
   "cell_type": "code",
   "execution_count": 5,
   "metadata": {},
   "outputs": [],
   "source": [
    "def DataframeDimensions(df):\n",
    "    print(f\"Número de Linhas: {df.shape[0]}\")\n",
    "    print(f\"Número de Colunas: {df.shape[1]}\")\n",
    "    \n",
    "    return None"
   ]
  },
  {
   "cell_type": "code",
   "execution_count": 6,
   "metadata": {},
   "outputs": [],
   "source": [
    "def GetNumericalAttributes(df):\n",
    "    return df.select_dtypes(include=['int64', 'float64'])"
   ]
  },
  {
   "cell_type": "code",
   "execution_count": 7,
   "metadata": {},
   "outputs": [],
   "source": [
    "def Statistics(df):\n",
    "    # Central Tendency Metrics\n",
    "    mean = pd.DataFrame(df.apply(np.mean)).T\n",
    "    median = pd.DataFrame(df.apply(np.median)).T\n",
    "\n",
    "    # Dispersion Metrics\n",
    "    min_ = pd.DataFrame(df.apply(min)).T\n",
    "    max_ = pd.DataFrame(df.apply(max)).T\n",
    "    range_ = pd.DataFrame(df.apply(lambda x: x.max() - x.min())).T\n",
    "    std = pd.DataFrame(df.apply(np.std)).T\n",
    "    skew = pd.DataFrame(df.apply(lambda x: x.skew())).T\n",
    "    kurtosis = pd.DataFrame(df.apply(lambda x: x.kurtosis())).T\n",
    "\n",
    "    # Metrics Concatenation\n",
    "    m = pd.concat([min_, max_, range_, mean, median, std, skew, kurtosis]).T.reset_index()\n",
    "    m.columns = ['attributes', 'min', 'max', 'range', 'mean', 'median', 'std', 'skew', 'kurtosis']\n",
    "    \n",
    "    return m"
   ]
  },
  {
   "cell_type": "code",
   "execution_count": 8,
   "metadata": {},
   "outputs": [],
   "source": [
    "def ColorName(color_code):\n",
    "    return COLORS[color_code]"
   ]
  },
  {
   "cell_type": "code",
   "execution_count": 9,
   "metadata": {},
   "outputs": [],
   "source": [
    "def CountryName(country_id):\n",
    "    return COUNTRIES[country_id]"
   ]
  },
  {
   "cell_type": "code",
   "execution_count": 10,
   "metadata": {},
   "outputs": [],
   "source": [
    "def CreatePriceTye(price_range):\n",
    "    if price_range == 1:\n",
    "        return \"cheap\"\n",
    "    elif price_range == 2:\n",
    "        return \"normal\"\n",
    "    elif price_range == 3:\n",
    "        return \"expensive\"\n",
    "    else:\n",
    "        return \"gourmet\""
   ]
  },
  {
   "cell_type": "code",
   "execution_count": 11,
   "metadata": {},
   "outputs": [],
   "source": [
    "def ColumnsOrder(df):\n",
    "    df = df.copy()\n",
    "\n",
    "    new_cols_order = [\n",
    "        \"restaurant_id\",\n",
    "        \"restaurant_name\",\n",
    "        \"country\",\n",
    "        \"city\",\n",
    "        \"address\",\n",
    "        \"locality\",\n",
    "        \"locality_verbose\",\n",
    "        \"longitude\",\n",
    "        \"latitude\",\n",
    "        \"cuisines\",\n",
    "        \"price_type\",\n",
    "        \"average_cost_for_two\",\n",
    "        \"currency\",\n",
    "        \"has_table_booking\",\n",
    "        \"has_online_delivery\",\n",
    "        \"is_delivering_now\",\n",
    "        \"aggregate_rating\",\n",
    "        \"rating_color\",\n",
    "        \"color_name\",\n",
    "        \"rating_text\",\n",
    "        \"votes\",\n",
    "    ]\n",
    "\n",
    "    return df.loc[:, new_cols_order]"
   ]
  },
  {
   "cell_type": "code",
   "execution_count": 12,
   "metadata": {},
   "outputs": [],
   "source": [
    "def PrepareData(path):\n",
    "    df = pd.read_csv(path)\n",
    "    \n",
    "    df = RenameColumns(df)\n",
    "\n",
    "    df = df.dropna()\n",
    "    \n",
    "    df = df.drop_duplicates()\n",
    "    \n",
    "    df[\"price_type\"] = df.loc[:, \"price_range\"].apply(lambda x: CreatePriceTye(x))\n",
    "\n",
    "    df[\"country\"] = df.loc[:, \"country_code\"].apply(lambda x: CountryName(x))\n",
    "\n",
    "    df[\"color_name\"] = df.loc[:, \"rating_color\"].apply(lambda x: ColorName(x))\n",
    "\n",
    "    df[\"cuisines\"] = df.loc[:, \"cuisines\"].apply(lambda x: x.split(\",\")[0])\n",
    " \n",
    "    df = ColumnsOrder(df)\n",
    "    \n",
    "    df.to_csv(\"dataset/processed/data.csv\", index=False)\n",
    "\n",
    "    return df"
   ]
  },
  {
   "cell_type": "markdown",
   "metadata": {
    "jp-MarkdownHeadingCollapsed": true,
    "tags": []
   },
   "source": [
    "## 0.3) Load Data"
   ]
  },
  {
   "cell_type": "code",
   "execution_count": 13,
   "metadata": {},
   "outputs": [
    {
     "data": {
      "text/html": [
       "<div>\n",
       "<style scoped>\n",
       "    .dataframe tbody tr th:only-of-type {\n",
       "        vertical-align: middle;\n",
       "    }\n",
       "\n",
       "    .dataframe tbody tr th {\n",
       "        vertical-align: top;\n",
       "    }\n",
       "\n",
       "    .dataframe thead th {\n",
       "        text-align: right;\n",
       "    }\n",
       "</style>\n",
       "<table border=\"1\" class=\"dataframe\">\n",
       "  <thead>\n",
       "    <tr style=\"text-align: right;\">\n",
       "      <th></th>\n",
       "      <th>Restaurant ID</th>\n",
       "      <th>Restaurant Name</th>\n",
       "      <th>Country Code</th>\n",
       "      <th>City</th>\n",
       "      <th>Address</th>\n",
       "      <th>Locality</th>\n",
       "      <th>Locality Verbose</th>\n",
       "      <th>Longitude</th>\n",
       "      <th>Latitude</th>\n",
       "      <th>Cuisines</th>\n",
       "      <th>Average Cost for two</th>\n",
       "      <th>Currency</th>\n",
       "      <th>Has Table booking</th>\n",
       "      <th>Has Online delivery</th>\n",
       "      <th>Is delivering now</th>\n",
       "      <th>Switch to order menu</th>\n",
       "      <th>Price range</th>\n",
       "      <th>Aggregate rating</th>\n",
       "      <th>Rating color</th>\n",
       "      <th>Rating text</th>\n",
       "      <th>Votes</th>\n",
       "    </tr>\n",
       "  </thead>\n",
       "  <tbody>\n",
       "    <tr>\n",
       "      <th>0</th>\n",
       "      <td>6310675</td>\n",
       "      <td>Mama Lou's Italian Kitchen</td>\n",
       "      <td>162</td>\n",
       "      <td>Las Piñas City</td>\n",
       "      <td>Block 1, Lot 36, Tropical Avenue Corner Tropic...</td>\n",
       "      <td>BF International</td>\n",
       "      <td>BF International, Las Piñas City</td>\n",
       "      <td>121.009787</td>\n",
       "      <td>14.447615</td>\n",
       "      <td>Italian</td>\n",
       "      <td>1100</td>\n",
       "      <td>Botswana Pula(P)</td>\n",
       "      <td>1</td>\n",
       "      <td>0</td>\n",
       "      <td>0</td>\n",
       "      <td>0</td>\n",
       "      <td>3</td>\n",
       "      <td>4.6</td>\n",
       "      <td>3F7E00</td>\n",
       "      <td>Excellent</td>\n",
       "      <td>619</td>\n",
       "    </tr>\n",
       "    <tr>\n",
       "      <th>1</th>\n",
       "      <td>6310675</td>\n",
       "      <td>Mama Lou's Italian Kitchen</td>\n",
       "      <td>162</td>\n",
       "      <td>Las Piñas City</td>\n",
       "      <td>Block 1, Lot 36, Tropical Avenue Corner Tropic...</td>\n",
       "      <td>BF International</td>\n",
       "      <td>BF International, Las Piñas City</td>\n",
       "      <td>121.009787</td>\n",
       "      <td>14.447615</td>\n",
       "      <td>Italian</td>\n",
       "      <td>1100</td>\n",
       "      <td>Botswana Pula(P)</td>\n",
       "      <td>1</td>\n",
       "      <td>0</td>\n",
       "      <td>0</td>\n",
       "      <td>0</td>\n",
       "      <td>3</td>\n",
       "      <td>4.6</td>\n",
       "      <td>3F7E00</td>\n",
       "      <td>Excellent</td>\n",
       "      <td>619</td>\n",
       "    </tr>\n",
       "    <tr>\n",
       "      <th>2</th>\n",
       "      <td>6314542</td>\n",
       "      <td>Blackbird</td>\n",
       "      <td>162</td>\n",
       "      <td>Makati City</td>\n",
       "      <td>Nielson Tower, Ayala Triangle Gardens, Salcedo...</td>\n",
       "      <td>Ayala Triangle Gardens, Salcedo Village, Makat...</td>\n",
       "      <td>Ayala Triangle Gardens, Salcedo Village, Makat...</td>\n",
       "      <td>121.024562</td>\n",
       "      <td>14.556042</td>\n",
       "      <td>European, Asian</td>\n",
       "      <td>3100</td>\n",
       "      <td>Botswana Pula(P)</td>\n",
       "      <td>0</td>\n",
       "      <td>0</td>\n",
       "      <td>0</td>\n",
       "      <td>0</td>\n",
       "      <td>4</td>\n",
       "      <td>4.7</td>\n",
       "      <td>3F7E00</td>\n",
       "      <td>Excellent</td>\n",
       "      <td>469</td>\n",
       "    </tr>\n",
       "    <tr>\n",
       "      <th>3</th>\n",
       "      <td>6301293</td>\n",
       "      <td>Banapple</td>\n",
       "      <td>162</td>\n",
       "      <td>Makati City</td>\n",
       "      <td>Ayala Triangle Gardens, Salcedo Village, Makat...</td>\n",
       "      <td>Ayala Triangle Gardens, Salcedo Village, Makat...</td>\n",
       "      <td>Ayala Triangle Gardens, Salcedo Village, Makat...</td>\n",
       "      <td>121.023171</td>\n",
       "      <td>14.556196</td>\n",
       "      <td>Filipino, American, Italian, Bakery</td>\n",
       "      <td>800</td>\n",
       "      <td>Botswana Pula(P)</td>\n",
       "      <td>0</td>\n",
       "      <td>0</td>\n",
       "      <td>0</td>\n",
       "      <td>0</td>\n",
       "      <td>3</td>\n",
       "      <td>4.4</td>\n",
       "      <td>5BA829</td>\n",
       "      <td>Very Good</td>\n",
       "      <td>867</td>\n",
       "    </tr>\n",
       "    <tr>\n",
       "      <th>4</th>\n",
       "      <td>6315689</td>\n",
       "      <td>Bad Bird</td>\n",
       "      <td>162</td>\n",
       "      <td>Makati City</td>\n",
       "      <td>Hole In The Wall, Floor 4, Century City Mall, ...</td>\n",
       "      <td>Century City Mall, Poblacion, Makati City</td>\n",
       "      <td>Century City Mall, Poblacion, Makati City, Mak...</td>\n",
       "      <td>121.027708</td>\n",
       "      <td>14.565899</td>\n",
       "      <td>American</td>\n",
       "      <td>700</td>\n",
       "      <td>Botswana Pula(P)</td>\n",
       "      <td>0</td>\n",
       "      <td>0</td>\n",
       "      <td>0</td>\n",
       "      <td>0</td>\n",
       "      <td>3</td>\n",
       "      <td>4.4</td>\n",
       "      <td>5BA829</td>\n",
       "      <td>Very Good</td>\n",
       "      <td>858</td>\n",
       "    </tr>\n",
       "  </tbody>\n",
       "</table>\n",
       "</div>"
      ],
      "text/plain": [
       "   Restaurant ID             Restaurant Name  Country Code            City  \\\n",
       "0        6310675  Mama Lou's Italian Kitchen           162  Las Piñas City   \n",
       "1        6310675  Mama Lou's Italian Kitchen           162  Las Piñas City   \n",
       "2        6314542                   Blackbird           162     Makati City   \n",
       "3        6301293                    Banapple           162     Makati City   \n",
       "4        6315689                    Bad Bird           162     Makati City   \n",
       "\n",
       "                                             Address  \\\n",
       "0  Block 1, Lot 36, Tropical Avenue Corner Tropic...   \n",
       "1  Block 1, Lot 36, Tropical Avenue Corner Tropic...   \n",
       "2  Nielson Tower, Ayala Triangle Gardens, Salcedo...   \n",
       "3  Ayala Triangle Gardens, Salcedo Village, Makat...   \n",
       "4  Hole In The Wall, Floor 4, Century City Mall, ...   \n",
       "\n",
       "                                            Locality  \\\n",
       "0                                   BF International   \n",
       "1                                   BF International   \n",
       "2  Ayala Triangle Gardens, Salcedo Village, Makat...   \n",
       "3  Ayala Triangle Gardens, Salcedo Village, Makat...   \n",
       "4          Century City Mall, Poblacion, Makati City   \n",
       "\n",
       "                                    Locality Verbose   Longitude   Latitude  \\\n",
       "0                   BF International, Las Piñas City  121.009787  14.447615   \n",
       "1                   BF International, Las Piñas City  121.009787  14.447615   \n",
       "2  Ayala Triangle Gardens, Salcedo Village, Makat...  121.024562  14.556042   \n",
       "3  Ayala Triangle Gardens, Salcedo Village, Makat...  121.023171  14.556196   \n",
       "4  Century City Mall, Poblacion, Makati City, Mak...  121.027708  14.565899   \n",
       "\n",
       "                              Cuisines  Average Cost for two  \\\n",
       "0                              Italian                  1100   \n",
       "1                              Italian                  1100   \n",
       "2                      European, Asian                  3100   \n",
       "3  Filipino, American, Italian, Bakery                   800   \n",
       "4                             American                   700   \n",
       "\n",
       "           Currency  Has Table booking  Has Online delivery  \\\n",
       "0  Botswana Pula(P)                  1                    0   \n",
       "1  Botswana Pula(P)                  1                    0   \n",
       "2  Botswana Pula(P)                  0                    0   \n",
       "3  Botswana Pula(P)                  0                    0   \n",
       "4  Botswana Pula(P)                  0                    0   \n",
       "\n",
       "   Is delivering now  Switch to order menu  Price range  Aggregate rating  \\\n",
       "0                  0                     0            3               4.6   \n",
       "1                  0                     0            3               4.6   \n",
       "2                  0                     0            4               4.7   \n",
       "3                  0                     0            3               4.4   \n",
       "4                  0                     0            3               4.4   \n",
       "\n",
       "  Rating color Rating text  Votes  \n",
       "0       3F7E00   Excellent    619  \n",
       "1       3F7E00   Excellent    619  \n",
       "2       3F7E00   Excellent    469  \n",
       "3       5BA829   Very Good    867  \n",
       "4       5BA829   Very Good    858  "
      ]
     },
     "execution_count": 13,
     "metadata": {},
     "output_type": "execute_result"
    }
   ],
   "source": [
    "df_raw = pd.read_csv(PATH)\n",
    "df_raw.head()"
   ]
  },
  {
   "cell_type": "markdown",
   "metadata": {
    "tags": []
   },
   "source": [
    "# 1.0) DATA DESCRIPTION"
   ]
  },
  {
   "cell_type": "code",
   "execution_count": 14,
   "metadata": {},
   "outputs": [
    {
     "data": {
      "text/html": [
       "<div>\n",
       "<style scoped>\n",
       "    .dataframe tbody tr th:only-of-type {\n",
       "        vertical-align: middle;\n",
       "    }\n",
       "\n",
       "    .dataframe tbody tr th {\n",
       "        vertical-align: top;\n",
       "    }\n",
       "\n",
       "    .dataframe thead th {\n",
       "        text-align: right;\n",
       "    }\n",
       "</style>\n",
       "<table border=\"1\" class=\"dataframe\">\n",
       "  <thead>\n",
       "    <tr style=\"text-align: right;\">\n",
       "      <th></th>\n",
       "      <th>Restaurant ID</th>\n",
       "      <th>Restaurant Name</th>\n",
       "      <th>Country Code</th>\n",
       "      <th>City</th>\n",
       "      <th>Address</th>\n",
       "      <th>Locality</th>\n",
       "      <th>Locality Verbose</th>\n",
       "      <th>Longitude</th>\n",
       "      <th>Latitude</th>\n",
       "      <th>Cuisines</th>\n",
       "      <th>Average Cost for two</th>\n",
       "      <th>Currency</th>\n",
       "      <th>Has Table booking</th>\n",
       "      <th>Has Online delivery</th>\n",
       "      <th>Is delivering now</th>\n",
       "      <th>Switch to order menu</th>\n",
       "      <th>Price range</th>\n",
       "      <th>Aggregate rating</th>\n",
       "      <th>Rating color</th>\n",
       "      <th>Rating text</th>\n",
       "      <th>Votes</th>\n",
       "    </tr>\n",
       "  </thead>\n",
       "  <tbody>\n",
       "    <tr>\n",
       "      <th>0</th>\n",
       "      <td>6310675</td>\n",
       "      <td>Mama Lou's Italian Kitchen</td>\n",
       "      <td>162</td>\n",
       "      <td>Las Piñas City</td>\n",
       "      <td>Block 1, Lot 36, Tropical Avenue Corner Tropic...</td>\n",
       "      <td>BF International</td>\n",
       "      <td>BF International, Las Piñas City</td>\n",
       "      <td>121.009787</td>\n",
       "      <td>14.447615</td>\n",
       "      <td>Italian</td>\n",
       "      <td>1100</td>\n",
       "      <td>Botswana Pula(P)</td>\n",
       "      <td>1</td>\n",
       "      <td>0</td>\n",
       "      <td>0</td>\n",
       "      <td>0</td>\n",
       "      <td>3</td>\n",
       "      <td>4.6</td>\n",
       "      <td>3F7E00</td>\n",
       "      <td>Excellent</td>\n",
       "      <td>619</td>\n",
       "    </tr>\n",
       "    <tr>\n",
       "      <th>1</th>\n",
       "      <td>6310675</td>\n",
       "      <td>Mama Lou's Italian Kitchen</td>\n",
       "      <td>162</td>\n",
       "      <td>Las Piñas City</td>\n",
       "      <td>Block 1, Lot 36, Tropical Avenue Corner Tropic...</td>\n",
       "      <td>BF International</td>\n",
       "      <td>BF International, Las Piñas City</td>\n",
       "      <td>121.009787</td>\n",
       "      <td>14.447615</td>\n",
       "      <td>Italian</td>\n",
       "      <td>1100</td>\n",
       "      <td>Botswana Pula(P)</td>\n",
       "      <td>1</td>\n",
       "      <td>0</td>\n",
       "      <td>0</td>\n",
       "      <td>0</td>\n",
       "      <td>3</td>\n",
       "      <td>4.6</td>\n",
       "      <td>3F7E00</td>\n",
       "      <td>Excellent</td>\n",
       "      <td>619</td>\n",
       "    </tr>\n",
       "    <tr>\n",
       "      <th>2</th>\n",
       "      <td>6314542</td>\n",
       "      <td>Blackbird</td>\n",
       "      <td>162</td>\n",
       "      <td>Makati City</td>\n",
       "      <td>Nielson Tower, Ayala Triangle Gardens, Salcedo...</td>\n",
       "      <td>Ayala Triangle Gardens, Salcedo Village, Makat...</td>\n",
       "      <td>Ayala Triangle Gardens, Salcedo Village, Makat...</td>\n",
       "      <td>121.024562</td>\n",
       "      <td>14.556042</td>\n",
       "      <td>European, Asian</td>\n",
       "      <td>3100</td>\n",
       "      <td>Botswana Pula(P)</td>\n",
       "      <td>0</td>\n",
       "      <td>0</td>\n",
       "      <td>0</td>\n",
       "      <td>0</td>\n",
       "      <td>4</td>\n",
       "      <td>4.7</td>\n",
       "      <td>3F7E00</td>\n",
       "      <td>Excellent</td>\n",
       "      <td>469</td>\n",
       "    </tr>\n",
       "    <tr>\n",
       "      <th>3</th>\n",
       "      <td>6301293</td>\n",
       "      <td>Banapple</td>\n",
       "      <td>162</td>\n",
       "      <td>Makati City</td>\n",
       "      <td>Ayala Triangle Gardens, Salcedo Village, Makat...</td>\n",
       "      <td>Ayala Triangle Gardens, Salcedo Village, Makat...</td>\n",
       "      <td>Ayala Triangle Gardens, Salcedo Village, Makat...</td>\n",
       "      <td>121.023171</td>\n",
       "      <td>14.556196</td>\n",
       "      <td>Filipino, American, Italian, Bakery</td>\n",
       "      <td>800</td>\n",
       "      <td>Botswana Pula(P)</td>\n",
       "      <td>0</td>\n",
       "      <td>0</td>\n",
       "      <td>0</td>\n",
       "      <td>0</td>\n",
       "      <td>3</td>\n",
       "      <td>4.4</td>\n",
       "      <td>5BA829</td>\n",
       "      <td>Very Good</td>\n",
       "      <td>867</td>\n",
       "    </tr>\n",
       "    <tr>\n",
       "      <th>4</th>\n",
       "      <td>6315689</td>\n",
       "      <td>Bad Bird</td>\n",
       "      <td>162</td>\n",
       "      <td>Makati City</td>\n",
       "      <td>Hole In The Wall, Floor 4, Century City Mall, ...</td>\n",
       "      <td>Century City Mall, Poblacion, Makati City</td>\n",
       "      <td>Century City Mall, Poblacion, Makati City, Mak...</td>\n",
       "      <td>121.027708</td>\n",
       "      <td>14.565899</td>\n",
       "      <td>American</td>\n",
       "      <td>700</td>\n",
       "      <td>Botswana Pula(P)</td>\n",
       "      <td>0</td>\n",
       "      <td>0</td>\n",
       "      <td>0</td>\n",
       "      <td>0</td>\n",
       "      <td>3</td>\n",
       "      <td>4.4</td>\n",
       "      <td>5BA829</td>\n",
       "      <td>Very Good</td>\n",
       "      <td>858</td>\n",
       "    </tr>\n",
       "  </tbody>\n",
       "</table>\n",
       "</div>"
      ],
      "text/plain": [
       "   Restaurant ID             Restaurant Name  Country Code            City  \\\n",
       "0        6310675  Mama Lou's Italian Kitchen           162  Las Piñas City   \n",
       "1        6310675  Mama Lou's Italian Kitchen           162  Las Piñas City   \n",
       "2        6314542                   Blackbird           162     Makati City   \n",
       "3        6301293                    Banapple           162     Makati City   \n",
       "4        6315689                    Bad Bird           162     Makati City   \n",
       "\n",
       "                                             Address  \\\n",
       "0  Block 1, Lot 36, Tropical Avenue Corner Tropic...   \n",
       "1  Block 1, Lot 36, Tropical Avenue Corner Tropic...   \n",
       "2  Nielson Tower, Ayala Triangle Gardens, Salcedo...   \n",
       "3  Ayala Triangle Gardens, Salcedo Village, Makat...   \n",
       "4  Hole In The Wall, Floor 4, Century City Mall, ...   \n",
       "\n",
       "                                            Locality  \\\n",
       "0                                   BF International   \n",
       "1                                   BF International   \n",
       "2  Ayala Triangle Gardens, Salcedo Village, Makat...   \n",
       "3  Ayala Triangle Gardens, Salcedo Village, Makat...   \n",
       "4          Century City Mall, Poblacion, Makati City   \n",
       "\n",
       "                                    Locality Verbose   Longitude   Latitude  \\\n",
       "0                   BF International, Las Piñas City  121.009787  14.447615   \n",
       "1                   BF International, Las Piñas City  121.009787  14.447615   \n",
       "2  Ayala Triangle Gardens, Salcedo Village, Makat...  121.024562  14.556042   \n",
       "3  Ayala Triangle Gardens, Salcedo Village, Makat...  121.023171  14.556196   \n",
       "4  Century City Mall, Poblacion, Makati City, Mak...  121.027708  14.565899   \n",
       "\n",
       "                              Cuisines  Average Cost for two  \\\n",
       "0                              Italian                  1100   \n",
       "1                              Italian                  1100   \n",
       "2                      European, Asian                  3100   \n",
       "3  Filipino, American, Italian, Bakery                   800   \n",
       "4                             American                   700   \n",
       "\n",
       "           Currency  Has Table booking  Has Online delivery  \\\n",
       "0  Botswana Pula(P)                  1                    0   \n",
       "1  Botswana Pula(P)                  1                    0   \n",
       "2  Botswana Pula(P)                  0                    0   \n",
       "3  Botswana Pula(P)                  0                    0   \n",
       "4  Botswana Pula(P)                  0                    0   \n",
       "\n",
       "   Is delivering now  Switch to order menu  Price range  Aggregate rating  \\\n",
       "0                  0                     0            3               4.6   \n",
       "1                  0                     0            3               4.6   \n",
       "2                  0                     0            4               4.7   \n",
       "3                  0                     0            3               4.4   \n",
       "4                  0                     0            3               4.4   \n",
       "\n",
       "  Rating color Rating text  Votes  \n",
       "0       3F7E00   Excellent    619  \n",
       "1       3F7E00   Excellent    619  \n",
       "2       3F7E00   Excellent    469  \n",
       "3       5BA829   Very Good    867  \n",
       "4       5BA829   Very Good    858  "
      ]
     },
     "execution_count": 14,
     "metadata": {},
     "output_type": "execute_result"
    }
   ],
   "source": [
    "df1 = df_raw.copy()\n",
    "df1.head()"
   ]
  },
  {
   "cell_type": "markdown",
   "metadata": {
    "tags": []
   },
   "source": [
    "## 1.1) Columns Description"
   ]
  },
  {
   "cell_type": "markdown",
   "metadata": {},
   "source": [
    "| Column | Description |\n",
    "| :----- | :---------- |\n",
    "| Restaurant ID | ID do restaurante | \n",
    "| Restaurant Name | Nome do Restaurante |\n",
    "| Country Code | Código do País |\n",
    "| City | Nome da Cidade onde o restaurante está |\n",
    "| Address | Endereço do restaurante |\n",
    "| Locality | Localização e pontos de referência do restaurante |\n",
    "| Locality Verbose | Localização e pontos de referência do restaurante (Mais informações) |\n",
    "| Longitude | Ponto geográfico de Longitude do Restaurante |\n",
    "| Latitude | Ponto geográfico de Latitude do Restaurante |\n",
    "| Cuisines | Tipos de Culinária servidos no restaurante |\n",
    "| Average Cost for two | Preço Médio de um prato para duas pessoas no restaurante |\n",
    "| Currency | Moeda do país |\n",
    "| Has Table booking | Se o restaurante possui serviços de reserva; 1 - Sim; 0 - Não |\n",
    "| Has Online delivery | Se o restaurante possui serviços de pedido on-line; 1 - Sim; 0 - Não |\n",
    "| Is delivering now | Se o restaurante faz entregas; 1 - Sim; 0 - Não |\n",
    "| Switch to order menu | Se o restaurante alternou para menu de pedidos; 1 - Sim; 0 - Não |\n",
    "| Price range | Variação de preços do restaurante; 1 a 4 - Quanto maior o valor, mais caro serão os pratos |\n",
    "| Aggregate rating | Nota média do restaurante |\n",
    "| Rating color | Código Hexadecimal da cor do restaurante com base em sua nota média |\n",
    "| Rating text | Categoria em que o restaurante está com base em sua nota média |\n",
    "| Votes | Quantidade de avaliações que o restaurante já recebeu |"
   ]
  },
  {
   "cell_type": "markdown",
   "metadata": {
    "tags": []
   },
   "source": [
    "## 1.2) Rename Columns"
   ]
  },
  {
   "cell_type": "code",
   "execution_count": 15,
   "metadata": {},
   "outputs": [
    {
     "data": {
      "text/html": [
       "<div>\n",
       "<style scoped>\n",
       "    .dataframe tbody tr th:only-of-type {\n",
       "        vertical-align: middle;\n",
       "    }\n",
       "\n",
       "    .dataframe tbody tr th {\n",
       "        vertical-align: top;\n",
       "    }\n",
       "\n",
       "    .dataframe thead th {\n",
       "        text-align: right;\n",
       "    }\n",
       "</style>\n",
       "<table border=\"1\" class=\"dataframe\">\n",
       "  <thead>\n",
       "    <tr style=\"text-align: right;\">\n",
       "      <th></th>\n",
       "      <th>restaurant_id</th>\n",
       "      <th>restaurant_name</th>\n",
       "      <th>country_code</th>\n",
       "      <th>city</th>\n",
       "      <th>address</th>\n",
       "      <th>locality</th>\n",
       "      <th>locality_verbose</th>\n",
       "      <th>longitude</th>\n",
       "      <th>latitude</th>\n",
       "      <th>cuisines</th>\n",
       "      <th>average_cost_for_two</th>\n",
       "      <th>currency</th>\n",
       "      <th>has_table_booking</th>\n",
       "      <th>has_online_delivery</th>\n",
       "      <th>is_delivering_now</th>\n",
       "      <th>switch_to_order_menu</th>\n",
       "      <th>price_range</th>\n",
       "      <th>aggregate_rating</th>\n",
       "      <th>rating_color</th>\n",
       "      <th>rating_text</th>\n",
       "      <th>votes</th>\n",
       "    </tr>\n",
       "  </thead>\n",
       "  <tbody>\n",
       "    <tr>\n",
       "      <th>0</th>\n",
       "      <td>6310675</td>\n",
       "      <td>Mama Lou's Italian Kitchen</td>\n",
       "      <td>162</td>\n",
       "      <td>Las Piñas City</td>\n",
       "      <td>Block 1, Lot 36, Tropical Avenue Corner Tropic...</td>\n",
       "      <td>BF International</td>\n",
       "      <td>BF International, Las Piñas City</td>\n",
       "      <td>121.009787</td>\n",
       "      <td>14.447615</td>\n",
       "      <td>Italian</td>\n",
       "      <td>1100</td>\n",
       "      <td>Botswana Pula(P)</td>\n",
       "      <td>1</td>\n",
       "      <td>0</td>\n",
       "      <td>0</td>\n",
       "      <td>0</td>\n",
       "      <td>3</td>\n",
       "      <td>4.6</td>\n",
       "      <td>3F7E00</td>\n",
       "      <td>Excellent</td>\n",
       "      <td>619</td>\n",
       "    </tr>\n",
       "    <tr>\n",
       "      <th>1</th>\n",
       "      <td>6310675</td>\n",
       "      <td>Mama Lou's Italian Kitchen</td>\n",
       "      <td>162</td>\n",
       "      <td>Las Piñas City</td>\n",
       "      <td>Block 1, Lot 36, Tropical Avenue Corner Tropic...</td>\n",
       "      <td>BF International</td>\n",
       "      <td>BF International, Las Piñas City</td>\n",
       "      <td>121.009787</td>\n",
       "      <td>14.447615</td>\n",
       "      <td>Italian</td>\n",
       "      <td>1100</td>\n",
       "      <td>Botswana Pula(P)</td>\n",
       "      <td>1</td>\n",
       "      <td>0</td>\n",
       "      <td>0</td>\n",
       "      <td>0</td>\n",
       "      <td>3</td>\n",
       "      <td>4.6</td>\n",
       "      <td>3F7E00</td>\n",
       "      <td>Excellent</td>\n",
       "      <td>619</td>\n",
       "    </tr>\n",
       "    <tr>\n",
       "      <th>2</th>\n",
       "      <td>6314542</td>\n",
       "      <td>Blackbird</td>\n",
       "      <td>162</td>\n",
       "      <td>Makati City</td>\n",
       "      <td>Nielson Tower, Ayala Triangle Gardens, Salcedo...</td>\n",
       "      <td>Ayala Triangle Gardens, Salcedo Village, Makat...</td>\n",
       "      <td>Ayala Triangle Gardens, Salcedo Village, Makat...</td>\n",
       "      <td>121.024562</td>\n",
       "      <td>14.556042</td>\n",
       "      <td>European, Asian</td>\n",
       "      <td>3100</td>\n",
       "      <td>Botswana Pula(P)</td>\n",
       "      <td>0</td>\n",
       "      <td>0</td>\n",
       "      <td>0</td>\n",
       "      <td>0</td>\n",
       "      <td>4</td>\n",
       "      <td>4.7</td>\n",
       "      <td>3F7E00</td>\n",
       "      <td>Excellent</td>\n",
       "      <td>469</td>\n",
       "    </tr>\n",
       "    <tr>\n",
       "      <th>3</th>\n",
       "      <td>6301293</td>\n",
       "      <td>Banapple</td>\n",
       "      <td>162</td>\n",
       "      <td>Makati City</td>\n",
       "      <td>Ayala Triangle Gardens, Salcedo Village, Makat...</td>\n",
       "      <td>Ayala Triangle Gardens, Salcedo Village, Makat...</td>\n",
       "      <td>Ayala Triangle Gardens, Salcedo Village, Makat...</td>\n",
       "      <td>121.023171</td>\n",
       "      <td>14.556196</td>\n",
       "      <td>Filipino, American, Italian, Bakery</td>\n",
       "      <td>800</td>\n",
       "      <td>Botswana Pula(P)</td>\n",
       "      <td>0</td>\n",
       "      <td>0</td>\n",
       "      <td>0</td>\n",
       "      <td>0</td>\n",
       "      <td>3</td>\n",
       "      <td>4.4</td>\n",
       "      <td>5BA829</td>\n",
       "      <td>Very Good</td>\n",
       "      <td>867</td>\n",
       "    </tr>\n",
       "    <tr>\n",
       "      <th>4</th>\n",
       "      <td>6315689</td>\n",
       "      <td>Bad Bird</td>\n",
       "      <td>162</td>\n",
       "      <td>Makati City</td>\n",
       "      <td>Hole In The Wall, Floor 4, Century City Mall, ...</td>\n",
       "      <td>Century City Mall, Poblacion, Makati City</td>\n",
       "      <td>Century City Mall, Poblacion, Makati City, Mak...</td>\n",
       "      <td>121.027708</td>\n",
       "      <td>14.565899</td>\n",
       "      <td>American</td>\n",
       "      <td>700</td>\n",
       "      <td>Botswana Pula(P)</td>\n",
       "      <td>0</td>\n",
       "      <td>0</td>\n",
       "      <td>0</td>\n",
       "      <td>0</td>\n",
       "      <td>3</td>\n",
       "      <td>4.4</td>\n",
       "      <td>5BA829</td>\n",
       "      <td>Very Good</td>\n",
       "      <td>858</td>\n",
       "    </tr>\n",
       "  </tbody>\n",
       "</table>\n",
       "</div>"
      ],
      "text/plain": [
       "   restaurant_id             restaurant_name  country_code            city  \\\n",
       "0        6310675  Mama Lou's Italian Kitchen           162  Las Piñas City   \n",
       "1        6310675  Mama Lou's Italian Kitchen           162  Las Piñas City   \n",
       "2        6314542                   Blackbird           162     Makati City   \n",
       "3        6301293                    Banapple           162     Makati City   \n",
       "4        6315689                    Bad Bird           162     Makati City   \n",
       "\n",
       "                                             address  \\\n",
       "0  Block 1, Lot 36, Tropical Avenue Corner Tropic...   \n",
       "1  Block 1, Lot 36, Tropical Avenue Corner Tropic...   \n",
       "2  Nielson Tower, Ayala Triangle Gardens, Salcedo...   \n",
       "3  Ayala Triangle Gardens, Salcedo Village, Makat...   \n",
       "4  Hole In The Wall, Floor 4, Century City Mall, ...   \n",
       "\n",
       "                                            locality  \\\n",
       "0                                   BF International   \n",
       "1                                   BF International   \n",
       "2  Ayala Triangle Gardens, Salcedo Village, Makat...   \n",
       "3  Ayala Triangle Gardens, Salcedo Village, Makat...   \n",
       "4          Century City Mall, Poblacion, Makati City   \n",
       "\n",
       "                                    locality_verbose   longitude   latitude  \\\n",
       "0                   BF International, Las Piñas City  121.009787  14.447615   \n",
       "1                   BF International, Las Piñas City  121.009787  14.447615   \n",
       "2  Ayala Triangle Gardens, Salcedo Village, Makat...  121.024562  14.556042   \n",
       "3  Ayala Triangle Gardens, Salcedo Village, Makat...  121.023171  14.556196   \n",
       "4  Century City Mall, Poblacion, Makati City, Mak...  121.027708  14.565899   \n",
       "\n",
       "                              cuisines  average_cost_for_two  \\\n",
       "0                              Italian                  1100   \n",
       "1                              Italian                  1100   \n",
       "2                      European, Asian                  3100   \n",
       "3  Filipino, American, Italian, Bakery                   800   \n",
       "4                             American                   700   \n",
       "\n",
       "           currency  has_table_booking  has_online_delivery  \\\n",
       "0  Botswana Pula(P)                  1                    0   \n",
       "1  Botswana Pula(P)                  1                    0   \n",
       "2  Botswana Pula(P)                  0                    0   \n",
       "3  Botswana Pula(P)                  0                    0   \n",
       "4  Botswana Pula(P)                  0                    0   \n",
       "\n",
       "   is_delivering_now  switch_to_order_menu  price_range  aggregate_rating  \\\n",
       "0                  0                     0            3               4.6   \n",
       "1                  0                     0            3               4.6   \n",
       "2                  0                     0            4               4.7   \n",
       "3                  0                     0            3               4.4   \n",
       "4                  0                     0            3               4.4   \n",
       "\n",
       "  rating_color rating_text  votes  \n",
       "0       3F7E00   Excellent    619  \n",
       "1       3F7E00   Excellent    619  \n",
       "2       3F7E00   Excellent    469  \n",
       "3       5BA829   Very Good    867  \n",
       "4       5BA829   Very Good    858  "
      ]
     },
     "execution_count": 15,
     "metadata": {},
     "output_type": "execute_result"
    }
   ],
   "source": [
    "df1 = RenameColumns(df1)\n",
    "df1.head()"
   ]
  },
  {
   "cell_type": "markdown",
   "metadata": {
    "tags": []
   },
   "source": [
    "## 1.3) Data Dimensions"
   ]
  },
  {
   "cell_type": "code",
   "execution_count": 16,
   "metadata": {},
   "outputs": [
    {
     "name": "stdout",
     "output_type": "stream",
     "text": [
      "Número de Linhas: 7527\n",
      "Número de Colunas: 21\n"
     ]
    }
   ],
   "source": [
    "DataframeDimensions(df1)"
   ]
  },
  {
   "cell_type": "markdown",
   "metadata": {
    "tags": []
   },
   "source": [
    "## 1.4) Data Types"
   ]
  },
  {
   "cell_type": "code",
   "execution_count": 17,
   "metadata": {},
   "outputs": [
    {
     "data": {
      "text/plain": [
       "restaurant_id             int64\n",
       "restaurant_name          object\n",
       "country_code              int64\n",
       "city                     object\n",
       "address                  object\n",
       "locality                 object\n",
       "locality_verbose         object\n",
       "longitude               float64\n",
       "latitude                float64\n",
       "cuisines                 object\n",
       "average_cost_for_two      int64\n",
       "currency                 object\n",
       "has_table_booking         int64\n",
       "has_online_delivery       int64\n",
       "is_delivering_now         int64\n",
       "switch_to_order_menu      int64\n",
       "price_range               int64\n",
       "aggregate_rating        float64\n",
       "rating_color             object\n",
       "rating_text              object\n",
       "votes                     int64\n",
       "dtype: object"
      ]
     },
     "execution_count": 17,
     "metadata": {},
     "output_type": "execute_result"
    }
   ],
   "source": [
    "df1.dtypes"
   ]
  },
  {
   "cell_type": "markdown",
   "metadata": {
    "tags": []
   },
   "source": [
    "## 1.5) Check NaN and Duplicated"
   ]
  },
  {
   "cell_type": "code",
   "execution_count": 18,
   "metadata": {},
   "outputs": [
    {
     "data": {
      "text/plain": [
       "restaurant_id            0\n",
       "restaurant_name          0\n",
       "country_code             0\n",
       "city                     0\n",
       "address                  0\n",
       "locality                 0\n",
       "locality_verbose         0\n",
       "longitude                0\n",
       "latitude                 0\n",
       "cuisines                15\n",
       "average_cost_for_two     0\n",
       "currency                 0\n",
       "has_table_booking        0\n",
       "has_online_delivery      0\n",
       "is_delivering_now        0\n",
       "switch_to_order_menu     0\n",
       "price_range              0\n",
       "aggregate_rating         0\n",
       "rating_color             0\n",
       "rating_text              0\n",
       "votes                    0\n",
       "dtype: int64"
      ]
     },
     "execution_count": 18,
     "metadata": {},
     "output_type": "execute_result"
    }
   ],
   "source": [
    "df1.isna().sum()"
   ]
  },
  {
   "cell_type": "code",
   "execution_count": 19,
   "metadata": {},
   "outputs": [
    {
     "data": {
      "text/plain": [
       "2832"
      ]
     },
     "execution_count": 19,
     "metadata": {},
     "output_type": "execute_result"
    }
   ],
   "source": [
    "df1.loc[:, 'cuisines'].nunique()"
   ]
  },
  {
   "cell_type": "code",
   "execution_count": 20,
   "metadata": {},
   "outputs": [
    {
     "data": {
      "text/plain": [
       "585"
      ]
     },
     "execution_count": 20,
     "metadata": {},
     "output_type": "execute_result"
    }
   ],
   "source": [
    "df1.duplicated().sum()"
   ]
  },
  {
   "cell_type": "markdown",
   "metadata": {
    "tags": []
   },
   "source": [
    "## 1.6) Treat NaN an Duplicated"
   ]
  },
  {
   "cell_type": "code",
   "execution_count": 21,
   "metadata": {},
   "outputs": [
    {
     "data": {
      "text/plain": [
       "restaurant_id           0\n",
       "restaurant_name         0\n",
       "country_code            0\n",
       "city                    0\n",
       "address                 0\n",
       "locality                0\n",
       "locality_verbose        0\n",
       "longitude               0\n",
       "latitude                0\n",
       "cuisines                0\n",
       "average_cost_for_two    0\n",
       "currency                0\n",
       "has_table_booking       0\n",
       "has_online_delivery     0\n",
       "is_delivering_now       0\n",
       "switch_to_order_menu    0\n",
       "price_range             0\n",
       "aggregate_rating        0\n",
       "rating_color            0\n",
       "rating_text             0\n",
       "votes                   0\n",
       "dtype: int64"
      ]
     },
     "execution_count": 21,
     "metadata": {},
     "output_type": "execute_result"
    }
   ],
   "source": [
    "df1 = df1.dropna()\n",
    "df1.isna().sum()"
   ]
  },
  {
   "cell_type": "code",
   "execution_count": 22,
   "metadata": {},
   "outputs": [],
   "source": [
    "df1 = df1.drop_duplicates()"
   ]
  },
  {
   "cell_type": "markdown",
   "metadata": {},
   "source": [
    "## 1.7) Change Types"
   ]
  },
  {
   "cell_type": "markdown",
   "metadata": {},
   "source": [
    "Não há a necessidade de fazer a troca de tipos dos dados."
   ]
  },
  {
   "cell_type": "markdown",
   "metadata": {},
   "source": [
    "## 1.8) Descriptive Statistics"
   ]
  },
  {
   "cell_type": "code",
   "execution_count": 23,
   "metadata": {},
   "outputs": [],
   "source": [
    "num_data = GetNumericalAttributes(df1)"
   ]
  },
  {
   "cell_type": "markdown",
   "metadata": {},
   "source": [
    "### 1.8.1. Numerical Data"
   ]
  },
  {
   "cell_type": "code",
   "execution_count": 24,
   "metadata": {},
   "outputs": [
    {
     "data": {
      "text/html": [
       "<div>\n",
       "<style scoped>\n",
       "    .dataframe tbody tr th:only-of-type {\n",
       "        vertical-align: middle;\n",
       "    }\n",
       "\n",
       "    .dataframe tbody tr th {\n",
       "        vertical-align: top;\n",
       "    }\n",
       "\n",
       "    .dataframe thead th {\n",
       "        text-align: right;\n",
       "    }\n",
       "</style>\n",
       "<table border=\"1\" class=\"dataframe\">\n",
       "  <thead>\n",
       "    <tr style=\"text-align: right;\">\n",
       "      <th></th>\n",
       "      <th>attributes</th>\n",
       "      <th>min</th>\n",
       "      <th>max</th>\n",
       "      <th>range</th>\n",
       "      <th>mean</th>\n",
       "      <th>median</th>\n",
       "      <th>std</th>\n",
       "      <th>skew</th>\n",
       "      <th>kurtosis</th>\n",
       "    </tr>\n",
       "  </thead>\n",
       "  <tbody>\n",
       "    <tr>\n",
       "      <th>0</th>\n",
       "      <td>restaurant_id</td>\n",
       "      <td>549.000000</td>\n",
       "      <td>1.904028e+07</td>\n",
       "      <td>1.903973e+07</td>\n",
       "      <td>1.074958e+07</td>\n",
       "      <td>7.900139e+06</td>\n",
       "      <td>7.037873e+06</td>\n",
       "      <td>-0.138598</td>\n",
       "      <td>-1.714864</td>\n",
       "    </tr>\n",
       "    <tr>\n",
       "      <th>1</th>\n",
       "      <td>country_code</td>\n",
       "      <td>1.000000</td>\n",
       "      <td>2.160000e+02</td>\n",
       "      <td>2.150000e+02</td>\n",
       "      <td>9.583966e+01</td>\n",
       "      <td>3.000000e+01</td>\n",
       "      <td>9.928432e+01</td>\n",
       "      <td>0.208034</td>\n",
       "      <td>-1.871897</td>\n",
       "    </tr>\n",
       "    <tr>\n",
       "      <th>2</th>\n",
       "      <td>longitude</td>\n",
       "      <td>-122.700455</td>\n",
       "      <td>1.753106e+02</td>\n",
       "      <td>2.980110e+02</td>\n",
       "      <td>3.145010e+01</td>\n",
       "      <td>7.375779e+01</td>\n",
       "      <td>7.902858e+01</td>\n",
       "      <td>-0.613523</td>\n",
       "      <td>-0.733448</td>\n",
       "    </tr>\n",
       "    <tr>\n",
       "      <th>3</th>\n",
       "      <td>latitude</td>\n",
       "      <td>-41.330428</td>\n",
       "      <td>5.597698e+01</td>\n",
       "      <td>9.730741e+01</td>\n",
       "      <td>1.941570e+01</td>\n",
       "      <td>2.526666e+01</td>\n",
       "      <td>2.351556e+01</td>\n",
       "      <td>-1.073323</td>\n",
       "      <td>0.542466</td>\n",
       "    </tr>\n",
       "    <tr>\n",
       "      <th>4</th>\n",
       "      <td>average_cost_for_two</td>\n",
       "      <td>0.000000</td>\n",
       "      <td>2.500002e+07</td>\n",
       "      <td>2.500002e+07</td>\n",
       "      <td>7.520077e+03</td>\n",
       "      <td>2.500000e+02</td>\n",
       "      <td>3.025129e+05</td>\n",
       "      <td>81.424161</td>\n",
       "      <td>6725.361462</td>\n",
       "    </tr>\n",
       "    <tr>\n",
       "      <th>5</th>\n",
       "      <td>has_table_booking</td>\n",
       "      <td>0.000000</td>\n",
       "      <td>1.000000e+00</td>\n",
       "      <td>1.000000e+00</td>\n",
       "      <td>6.061481e-02</td>\n",
       "      <td>0.000000e+00</td>\n",
       "      <td>2.386224e-01</td>\n",
       "      <td>3.683479</td>\n",
       "      <td>11.571359</td>\n",
       "    </tr>\n",
       "    <tr>\n",
       "      <th>6</th>\n",
       "      <td>has_online_delivery</td>\n",
       "      <td>0.000000</td>\n",
       "      <td>1.000000e+00</td>\n",
       "      <td>1.000000e+00</td>\n",
       "      <td>3.504113e-01</td>\n",
       "      <td>0.000000e+00</td>\n",
       "      <td>4.770988e-01</td>\n",
       "      <td>0.627212</td>\n",
       "      <td>-1.607069</td>\n",
       "    </tr>\n",
       "    <tr>\n",
       "      <th>7</th>\n",
       "      <td>is_delivering_now</td>\n",
       "      <td>0.000000</td>\n",
       "      <td>1.000000e+00</td>\n",
       "      <td>1.000000e+00</td>\n",
       "      <td>1.749170e-01</td>\n",
       "      <td>0.000000e+00</td>\n",
       "      <td>3.798961e-01</td>\n",
       "      <td>1.711802</td>\n",
       "      <td>0.930533</td>\n",
       "    </tr>\n",
       "    <tr>\n",
       "      <th>8</th>\n",
       "      <td>switch_to_order_menu</td>\n",
       "      <td>0.000000</td>\n",
       "      <td>0.000000e+00</td>\n",
       "      <td>0.000000e+00</td>\n",
       "      <td>0.000000e+00</td>\n",
       "      <td>0.000000e+00</td>\n",
       "      <td>0.000000e+00</td>\n",
       "      <td>0.000000</td>\n",
       "      <td>0.000000</td>\n",
       "    </tr>\n",
       "    <tr>\n",
       "      <th>9</th>\n",
       "      <td>price_range</td>\n",
       "      <td>1.000000</td>\n",
       "      <td>4.000000e+00</td>\n",
       "      <td>3.000000e+00</td>\n",
       "      <td>2.633280e+00</td>\n",
       "      <td>3.000000e+00</td>\n",
       "      <td>9.656509e-01</td>\n",
       "      <td>-0.056585</td>\n",
       "      <td>-0.998100</td>\n",
       "    </tr>\n",
       "    <tr>\n",
       "      <th>10</th>\n",
       "      <td>aggregate_rating</td>\n",
       "      <td>0.000000</td>\n",
       "      <td>4.900000e+00</td>\n",
       "      <td>4.900000e+00</td>\n",
       "      <td>4.131116e+00</td>\n",
       "      <td>4.200000e+00</td>\n",
       "      <td>6.622396e-01</td>\n",
       "      <td>-3.950632</td>\n",
       "      <td>21.659622</td>\n",
       "    </tr>\n",
       "    <tr>\n",
       "      <th>11</th>\n",
       "      <td>votes</td>\n",
       "      <td>0.000000</td>\n",
       "      <td>4.133300e+04</td>\n",
       "      <td>4.133300e+04</td>\n",
       "      <td>6.053591e+02</td>\n",
       "      <td>3.280000e+02</td>\n",
       "      <td>1.116459e+03</td>\n",
       "      <td>11.377346</td>\n",
       "      <td>291.232704</td>\n",
       "    </tr>\n",
       "  </tbody>\n",
       "</table>\n",
       "</div>"
      ],
      "text/plain": [
       "              attributes         min           max         range  \\\n",
       "0          restaurant_id  549.000000  1.904028e+07  1.903973e+07   \n",
       "1           country_code    1.000000  2.160000e+02  2.150000e+02   \n",
       "2              longitude -122.700455  1.753106e+02  2.980110e+02   \n",
       "3               latitude  -41.330428  5.597698e+01  9.730741e+01   \n",
       "4   average_cost_for_two    0.000000  2.500002e+07  2.500002e+07   \n",
       "5      has_table_booking    0.000000  1.000000e+00  1.000000e+00   \n",
       "6    has_online_delivery    0.000000  1.000000e+00  1.000000e+00   \n",
       "7      is_delivering_now    0.000000  1.000000e+00  1.000000e+00   \n",
       "8   switch_to_order_menu    0.000000  0.000000e+00  0.000000e+00   \n",
       "9            price_range    1.000000  4.000000e+00  3.000000e+00   \n",
       "10      aggregate_rating    0.000000  4.900000e+00  4.900000e+00   \n",
       "11                 votes    0.000000  4.133300e+04  4.133300e+04   \n",
       "\n",
       "            mean        median           std       skew     kurtosis  \n",
       "0   1.074958e+07  7.900139e+06  7.037873e+06  -0.138598    -1.714864  \n",
       "1   9.583966e+01  3.000000e+01  9.928432e+01   0.208034    -1.871897  \n",
       "2   3.145010e+01  7.375779e+01  7.902858e+01  -0.613523    -0.733448  \n",
       "3   1.941570e+01  2.526666e+01  2.351556e+01  -1.073323     0.542466  \n",
       "4   7.520077e+03  2.500000e+02  3.025129e+05  81.424161  6725.361462  \n",
       "5   6.061481e-02  0.000000e+00  2.386224e-01   3.683479    11.571359  \n",
       "6   3.504113e-01  0.000000e+00  4.770988e-01   0.627212    -1.607069  \n",
       "7   1.749170e-01  0.000000e+00  3.798961e-01   1.711802     0.930533  \n",
       "8   0.000000e+00  0.000000e+00  0.000000e+00   0.000000     0.000000  \n",
       "9   2.633280e+00  3.000000e+00  9.656509e-01  -0.056585    -0.998100  \n",
       "10  4.131116e+00  4.200000e+00  6.622396e-01  -3.950632    21.659622  \n",
       "11  6.053591e+02  3.280000e+02  1.116459e+03  11.377346   291.232704  "
      ]
     },
     "execution_count": 24,
     "metadata": {},
     "output_type": "execute_result"
    }
   ],
   "source": [
    "Statistics(num_data)"
   ]
  },
  {
   "cell_type": "markdown",
   "metadata": {},
   "source": [
    "# 2) Respostas as perguntas de negócio"
   ]
  },
  {
   "cell_type": "code",
   "execution_count": 25,
   "metadata": {},
   "outputs": [
    {
     "data": {
      "text/html": [
       "<div>\n",
       "<style scoped>\n",
       "    .dataframe tbody tr th:only-of-type {\n",
       "        vertical-align: middle;\n",
       "    }\n",
       "\n",
       "    .dataframe tbody tr th {\n",
       "        vertical-align: top;\n",
       "    }\n",
       "\n",
       "    .dataframe thead th {\n",
       "        text-align: right;\n",
       "    }\n",
       "</style>\n",
       "<table border=\"1\" class=\"dataframe\">\n",
       "  <thead>\n",
       "    <tr style=\"text-align: right;\">\n",
       "      <th></th>\n",
       "      <th>restaurant_id</th>\n",
       "      <th>restaurant_name</th>\n",
       "      <th>country</th>\n",
       "      <th>city</th>\n",
       "      <th>address</th>\n",
       "      <th>locality</th>\n",
       "      <th>locality_verbose</th>\n",
       "      <th>longitude</th>\n",
       "      <th>latitude</th>\n",
       "      <th>cuisines</th>\n",
       "      <th>price_type</th>\n",
       "      <th>average_cost_for_two</th>\n",
       "      <th>currency</th>\n",
       "      <th>has_table_booking</th>\n",
       "      <th>has_online_delivery</th>\n",
       "      <th>is_delivering_now</th>\n",
       "      <th>aggregate_rating</th>\n",
       "      <th>rating_color</th>\n",
       "      <th>color_name</th>\n",
       "      <th>rating_text</th>\n",
       "      <th>votes</th>\n",
       "    </tr>\n",
       "  </thead>\n",
       "  <tbody>\n",
       "    <tr>\n",
       "      <th>0</th>\n",
       "      <td>6310675</td>\n",
       "      <td>Mama Lou's Italian Kitchen</td>\n",
       "      <td>Philippines</td>\n",
       "      <td>Las Piñas City</td>\n",
       "      <td>Block 1, Lot 36, Tropical Avenue Corner Tropic...</td>\n",
       "      <td>BF International</td>\n",
       "      <td>BF International, Las Piñas City</td>\n",
       "      <td>121.009787</td>\n",
       "      <td>14.447615</td>\n",
       "      <td>Italian</td>\n",
       "      <td>expensive</td>\n",
       "      <td>1100</td>\n",
       "      <td>Botswana Pula(P)</td>\n",
       "      <td>1</td>\n",
       "      <td>0</td>\n",
       "      <td>0</td>\n",
       "      <td>4.6</td>\n",
       "      <td>3F7E00</td>\n",
       "      <td>darkgreen</td>\n",
       "      <td>Excellent</td>\n",
       "      <td>619</td>\n",
       "    </tr>\n",
       "    <tr>\n",
       "      <th>2</th>\n",
       "      <td>6314542</td>\n",
       "      <td>Blackbird</td>\n",
       "      <td>Philippines</td>\n",
       "      <td>Makati City</td>\n",
       "      <td>Nielson Tower, Ayala Triangle Gardens, Salcedo...</td>\n",
       "      <td>Ayala Triangle Gardens, Salcedo Village, Makat...</td>\n",
       "      <td>Ayala Triangle Gardens, Salcedo Village, Makat...</td>\n",
       "      <td>121.024562</td>\n",
       "      <td>14.556042</td>\n",
       "      <td>European</td>\n",
       "      <td>gourmet</td>\n",
       "      <td>3100</td>\n",
       "      <td>Botswana Pula(P)</td>\n",
       "      <td>0</td>\n",
       "      <td>0</td>\n",
       "      <td>0</td>\n",
       "      <td>4.7</td>\n",
       "      <td>3F7E00</td>\n",
       "      <td>darkgreen</td>\n",
       "      <td>Excellent</td>\n",
       "      <td>469</td>\n",
       "    </tr>\n",
       "    <tr>\n",
       "      <th>3</th>\n",
       "      <td>6301293</td>\n",
       "      <td>Banapple</td>\n",
       "      <td>Philippines</td>\n",
       "      <td>Makati City</td>\n",
       "      <td>Ayala Triangle Gardens, Salcedo Village, Makat...</td>\n",
       "      <td>Ayala Triangle Gardens, Salcedo Village, Makat...</td>\n",
       "      <td>Ayala Triangle Gardens, Salcedo Village, Makat...</td>\n",
       "      <td>121.023171</td>\n",
       "      <td>14.556196</td>\n",
       "      <td>Filipino</td>\n",
       "      <td>expensive</td>\n",
       "      <td>800</td>\n",
       "      <td>Botswana Pula(P)</td>\n",
       "      <td>0</td>\n",
       "      <td>0</td>\n",
       "      <td>0</td>\n",
       "      <td>4.4</td>\n",
       "      <td>5BA829</td>\n",
       "      <td>green</td>\n",
       "      <td>Very Good</td>\n",
       "      <td>867</td>\n",
       "    </tr>\n",
       "    <tr>\n",
       "      <th>4</th>\n",
       "      <td>6315689</td>\n",
       "      <td>Bad Bird</td>\n",
       "      <td>Philippines</td>\n",
       "      <td>Makati City</td>\n",
       "      <td>Hole In The Wall, Floor 4, Century City Mall, ...</td>\n",
       "      <td>Century City Mall, Poblacion, Makati City</td>\n",
       "      <td>Century City Mall, Poblacion, Makati City, Mak...</td>\n",
       "      <td>121.027708</td>\n",
       "      <td>14.565899</td>\n",
       "      <td>American</td>\n",
       "      <td>expensive</td>\n",
       "      <td>700</td>\n",
       "      <td>Botswana Pula(P)</td>\n",
       "      <td>0</td>\n",
       "      <td>0</td>\n",
       "      <td>0</td>\n",
       "      <td>4.4</td>\n",
       "      <td>5BA829</td>\n",
       "      <td>green</td>\n",
       "      <td>Very Good</td>\n",
       "      <td>858</td>\n",
       "    </tr>\n",
       "    <tr>\n",
       "      <th>5</th>\n",
       "      <td>6304833</td>\n",
       "      <td>Manam</td>\n",
       "      <td>Philippines</td>\n",
       "      <td>Makati City</td>\n",
       "      <td>Level 1, Greenbelt 2, Ayala Center, Greenbelt,...</td>\n",
       "      <td>Greenbelt 2, San Lorenzo, Makati City</td>\n",
       "      <td>Greenbelt 2, San Lorenzo, Makati City, Makati ...</td>\n",
       "      <td>121.020380</td>\n",
       "      <td>14.552351</td>\n",
       "      <td>Filipino</td>\n",
       "      <td>expensive</td>\n",
       "      <td>700</td>\n",
       "      <td>Botswana Pula(P)</td>\n",
       "      <td>0</td>\n",
       "      <td>0</td>\n",
       "      <td>0</td>\n",
       "      <td>4.7</td>\n",
       "      <td>3F7E00</td>\n",
       "      <td>darkgreen</td>\n",
       "      <td>Excellent</td>\n",
       "      <td>930</td>\n",
       "    </tr>\n",
       "  </tbody>\n",
       "</table>\n",
       "</div>"
      ],
      "text/plain": [
       "   restaurant_id             restaurant_name      country            city  \\\n",
       "0        6310675  Mama Lou's Italian Kitchen  Philippines  Las Piñas City   \n",
       "2        6314542                   Blackbird  Philippines     Makati City   \n",
       "3        6301293                    Banapple  Philippines     Makati City   \n",
       "4        6315689                    Bad Bird  Philippines     Makati City   \n",
       "5        6304833                       Manam  Philippines     Makati City   \n",
       "\n",
       "                                             address  \\\n",
       "0  Block 1, Lot 36, Tropical Avenue Corner Tropic...   \n",
       "2  Nielson Tower, Ayala Triangle Gardens, Salcedo...   \n",
       "3  Ayala Triangle Gardens, Salcedo Village, Makat...   \n",
       "4  Hole In The Wall, Floor 4, Century City Mall, ...   \n",
       "5  Level 1, Greenbelt 2, Ayala Center, Greenbelt,...   \n",
       "\n",
       "                                            locality  \\\n",
       "0                                   BF International   \n",
       "2  Ayala Triangle Gardens, Salcedo Village, Makat...   \n",
       "3  Ayala Triangle Gardens, Salcedo Village, Makat...   \n",
       "4          Century City Mall, Poblacion, Makati City   \n",
       "5              Greenbelt 2, San Lorenzo, Makati City   \n",
       "\n",
       "                                    locality_verbose   longitude   latitude  \\\n",
       "0                   BF International, Las Piñas City  121.009787  14.447615   \n",
       "2  Ayala Triangle Gardens, Salcedo Village, Makat...  121.024562  14.556042   \n",
       "3  Ayala Triangle Gardens, Salcedo Village, Makat...  121.023171  14.556196   \n",
       "4  Century City Mall, Poblacion, Makati City, Mak...  121.027708  14.565899   \n",
       "5  Greenbelt 2, San Lorenzo, Makati City, Makati ...  121.020380  14.552351   \n",
       "\n",
       "   cuisines price_type  average_cost_for_two          currency  \\\n",
       "0   Italian  expensive                  1100  Botswana Pula(P)   \n",
       "2  European    gourmet                  3100  Botswana Pula(P)   \n",
       "3  Filipino  expensive                   800  Botswana Pula(P)   \n",
       "4  American  expensive                   700  Botswana Pula(P)   \n",
       "5  Filipino  expensive                   700  Botswana Pula(P)   \n",
       "\n",
       "   has_table_booking  has_online_delivery  is_delivering_now  \\\n",
       "0                  1                    0                  0   \n",
       "2                  0                    0                  0   \n",
       "3                  0                    0                  0   \n",
       "4                  0                    0                  0   \n",
       "5                  0                    0                  0   \n",
       "\n",
       "   aggregate_rating rating_color color_name rating_text  votes  \n",
       "0               4.6       3F7E00  darkgreen   Excellent    619  \n",
       "2               4.7       3F7E00  darkgreen   Excellent    469  \n",
       "3               4.4       5BA829      green   Very Good    867  \n",
       "4               4.4       5BA829      green   Very Good    858  \n",
       "5               4.7       3F7E00  darkgreen   Excellent    930  "
      ]
     },
     "execution_count": 25,
     "metadata": {},
     "output_type": "execute_result"
    }
   ],
   "source": [
    "df2 = PrepareData(PATH)\n",
    "df2.head()"
   ]
  },
  {
   "cell_type": "markdown",
   "metadata": {},
   "source": [
    "## Geral"
   ]
  },
  {
   "cell_type": "markdown",
   "metadata": {},
   "source": [
    "### 1) Quantos restaurantes únicos estão registrados?"
   ]
  },
  {
   "cell_type": "code",
   "execution_count": 26,
   "metadata": {},
   "outputs": [
    {
     "name": "stdout",
     "output_type": "stream",
     "text": [
      "Estão registrados 6929 restaurantes únicos.\n"
     ]
    }
   ],
   "source": [
    "print(\"Estão registrados {} restaurantes únicos.\".format(df2['restaurant_id'].nunique()))"
   ]
  },
  {
   "cell_type": "markdown",
   "metadata": {},
   "source": [
    "### 2) Quantos paises únicos estão registrados?"
   ]
  },
  {
   "cell_type": "code",
   "execution_count": 27,
   "metadata": {},
   "outputs": [
    {
     "name": "stdout",
     "output_type": "stream",
     "text": [
      "Estão registrados 15 países únicos.\n"
     ]
    }
   ],
   "source": [
    "print(\"Estão registrados {} países únicos.\".format(df2['country'].nunique()))\n"
   ]
  },
  {
   "cell_type": "markdown",
   "metadata": {},
   "source": [
    "### 3) Quantas cidades únicas estão registradas?"
   ]
  },
  {
   "cell_type": "code",
   "execution_count": 28,
   "metadata": {},
   "outputs": [
    {
     "name": "stdout",
     "output_type": "stream",
     "text": [
      "Estão registradas 125 cidades únicas.\n"
     ]
    }
   ],
   "source": [
    "print(\"Estão registradas {} cidades únicas.\".format(df2['city'].nunique()))"
   ]
  },
  {
   "cell_type": "markdown",
   "metadata": {},
   "source": [
    "### 4) Qual o total de avaliações feitas?"
   ]
  },
  {
   "cell_type": "code",
   "execution_count": 29,
   "metadata": {},
   "outputs": [
    {
     "name": "stdout",
     "output_type": "stream",
     "text": [
      "O total de avaliações feitas são 4,194,533.\n"
     ]
    }
   ],
   "source": [
    "print(\"O total de avaliações feitas são {:,}.\".format(df2['votes'].sum()))"
   ]
  },
  {
   "cell_type": "markdown",
   "metadata": {},
   "source": [
    "### 5) Qual o total de tipos de culinária registrados?"
   ]
  },
  {
   "cell_type": "code",
   "execution_count": 30,
   "metadata": {},
   "outputs": [
    {
     "name": "stdout",
     "output_type": "stream",
     "text": [
      "O total de tipos de culinárias registrados são 165.\n"
     ]
    }
   ],
   "source": [
    "print(\"O total de tipos de culinárias registrados são {}.\".format(df2['cuisines'].nunique()))"
   ]
  },
  {
   "cell_type": "markdown",
   "metadata": {},
   "source": [
    "## País"
   ]
  },
  {
   "cell_type": "markdown",
   "metadata": {},
   "source": [
    "### 1) Qual o nome do país que possui mais cidades registradas?"
   ]
  },
  {
   "cell_type": "code",
   "execution_count": 31,
   "metadata": {},
   "outputs": [
    {
     "name": "stdout",
     "output_type": "stream",
     "text": [
      "O país com mais cidades registradas é India.\n"
     ]
    }
   ],
   "source": [
    "df_aux = (df2.loc[:, ['city', 'country'] ].groupby('country')\n",
    "                                          .nunique()\n",
    "                                          .sort_values('city', ascending=False)\n",
    "                                          .reset_index())\n",
    "\n",
    "print(\"O país com mais cidades registradas é {}.\".format(df_aux.iloc[0,0]))\n"
   ]
  },
  {
   "cell_type": "markdown",
   "metadata": {},
   "source": [
    "### 2) Qual o nome do país que possui mais restaurantes registrados?"
   ]
  },
  {
   "cell_type": "code",
   "execution_count": 32,
   "metadata": {},
   "outputs": [
    {
     "name": "stdout",
     "output_type": "stream",
     "text": [
      "O país com mais restaurantes registrados é India.\n"
     ]
    }
   ],
   "source": [
    "df_aux = (df2.loc[:, ['restaurant_id', 'country'] ].groupby('country')\n",
    "                                                   .count()\n",
    "                                                   .sort_values('restaurant_id', ascending=False)\n",
    "                                                   .reset_index())\n",
    "print(\"O país com mais restaurantes registrados é {}.\".format(df_aux.iloc[0,0]))"
   ]
  },
  {
   "cell_type": "markdown",
   "metadata": {},
   "source": [
    "### 3) Qual o nome do país que possui mais restaurantes com os nível de preço igual a 4 registrados?"
   ]
  },
  {
   "cell_type": "code",
   "execution_count": 33,
   "metadata": {},
   "outputs": [
    {
     "name": "stdout",
     "output_type": "stream",
     "text": [
      "O país com mais restaurantes de nível de preço igual a 4 registrados é India.\n"
     ]
    }
   ],
   "source": [
    "(df2.loc[ df2['aggregate_rating'] == 4, ['restaurant_id', 'country'] ]\n",
    "                                         .groupby('country')\n",
    "                                         .count()\n",
    "                                         .sort_values('restaurant_id', ascending=False)\n",
    "                                         .reset_index())\n",
    "print(\"O país com mais restaurantes de nível de preço igual a 4 registrados é {}.\".format(df_aux.iloc[0,0]))"
   ]
  },
  {
   "cell_type": "markdown",
   "metadata": {},
   "source": [
    "### 4) Qual o nome da país que possui a maior quantidade de tipos de culinária distintos?"
   ]
  },
  {
   "cell_type": "code",
   "execution_count": 34,
   "metadata": {},
   "outputs": [
    {
     "name": "stdout",
     "output_type": "stream",
     "text": [
      "O país com a maior quantidade de tipos de culinária distintos é India.\n"
     ]
    }
   ],
   "source": [
    "df_aux = (df2.loc[:, ['cuisines', 'country'] ].groupby('country')\n",
    "                                              .nunique()\n",
    "                                              .sort_values('cuisines', ascending=False)\n",
    "                                              .reset_index())\n",
    "print(\"O país com a maior quantidade de tipos de culinária distintos é {}.\".format(df_aux.iloc[0,0]))"
   ]
  },
  {
   "cell_type": "markdown",
   "metadata": {},
   "source": [
    "### 5) Qual o nome do país que possui a maior quantidade de avaliações feitas?"
   ]
  },
  {
   "cell_type": "code",
   "execution_count": 35,
   "metadata": {},
   "outputs": [
    {
     "name": "stdout",
     "output_type": "stream",
     "text": [
      "O país que possui a maior quantidade de avaliações feitas é India.\n"
     ]
    }
   ],
   "source": [
    "df_aux = (df2.loc[:, ['votes', 'country'] ].groupby('country')\n",
    "                                           .sum()\n",
    "                                           .sort_values('votes', ascending=False)\n",
    "                                           .reset_index())\n",
    "print(\"O país que possui a maior quantidade de avaliações feitas é {}.\".format(df_aux.iloc[0,0]))"
   ]
  },
  {
   "cell_type": "markdown",
   "metadata": {},
   "source": [
    "### 6) Qual o nome do país que possui a maior quantidade de restaurantes que fazem entrega?"
   ]
  },
  {
   "cell_type": "code",
   "execution_count": 36,
   "metadata": {},
   "outputs": [
    {
     "name": "stdout",
     "output_type": "stream",
     "text": [
      "O país que possui a maior quantidade de restaurantes que fazem entrega é India.\n"
     ]
    }
   ],
   "source": [
    "df_aux = (df2.loc[df2['is_delivering_now'] == 1, ['restaurant_id', 'country'] ].groupby('country')\n",
    "                                                     .count()\n",
    "                                                     .sort_values('restaurant_id', ascending=False)\n",
    "                                                     .reset_index())\n",
    "print(\"O país que possui a maior quantidade de restaurantes que fazem entrega é {}.\".format(df_aux.iloc[0,0]))"
   ]
  },
  {
   "cell_type": "markdown",
   "metadata": {},
   "source": [
    "### 7) Qual o nome do país que possui a maior quantidade de restaurantes que aceitam reservas?"
   ]
  },
  {
   "cell_type": "code",
   "execution_count": 37,
   "metadata": {},
   "outputs": [
    {
     "name": "stdout",
     "output_type": "stream",
     "text": [
      "O país que possui a maior quantidade de restaurantes que que aceitam reservas é India.\n"
     ]
    }
   ],
   "source": [
    "df_aux = (df2.loc[df2['has_table_booking'] == 1, ['restaurant_id', 'country'] ].groupby('country')\n",
    "                                                     .count()\n",
    "                                                     .sort_values('restaurant_id', ascending=False)\n",
    "                                                     .reset_index())\n",
    "print(\"O país que possui a maior quantidade de restaurantes que que aceitam reservas é {}.\".format(df_aux.iloc[0,0]))"
   ]
  },
  {
   "cell_type": "markdown",
   "metadata": {},
   "source": [
    "### 8) Qual o nome do país que possui, na média, a maior quantidade de avaliações registrada?"
   ]
  },
  {
   "cell_type": "code",
   "execution_count": 38,
   "metadata": {},
   "outputs": [
    {
     "name": "stdout",
     "output_type": "stream",
     "text": [
      "O país que possui, na média, a maior quantidade de avaliações registradas é Indonesia.\n"
     ]
    }
   ],
   "source": [
    "df_aux = (df2.loc[:, ['votes', 'country'] ].groupby('country')\n",
    "                                           .mean()\n",
    "                                           .sort_values('votes', ascending=False)\n",
    "                                           .reset_index())\n",
    "print(\"O país que possui, na média, a maior quantidade de avaliações registradas é {}.\".format(df_aux.iloc[0,0]))"
   ]
  },
  {
   "cell_type": "markdown",
   "metadata": {},
   "source": [
    "### 9) Qual o nome do país que possui, na média, a maior nota média registrada?"
   ]
  },
  {
   "cell_type": "code",
   "execution_count": 39,
   "metadata": {},
   "outputs": [
    {
     "name": "stdout",
     "output_type": "stream",
     "text": [
      "O país que possui, na média, a maior nota média registrada é Indonesia.\n"
     ]
    }
   ],
   "source": [
    "df_aux = (df2.loc[:, ['aggregate_rating', 'country'] ].groupby('country')\n",
    "                                                      .mean()\n",
    "                                                      .sort_values('aggregate_rating', ascending=False)\n",
    "                                                      .reset_index())\n",
    "print(\"O país que possui, na média, a maior nota média registrada é {}.\".format(df_aux.iloc[0,0]))"
   ]
  },
  {
   "cell_type": "markdown",
   "metadata": {},
   "source": [
    "### 10) Qual o nome do país que possui, na média, a menor nota média registrada?"
   ]
  },
  {
   "cell_type": "code",
   "execution_count": 40,
   "metadata": {},
   "outputs": [
    {
     "name": "stdout",
     "output_type": "stream",
     "text": [
      "O país que possui, na média, a menor nota média registrada é Brazil.\n"
     ]
    }
   ],
   "source": [
    "df_aux = (df2.loc[:, ['aggregate_rating', 'country'] ].groupby('country')\n",
    "                                                      .mean()\n",
    "                                                      .sort_values('aggregate_rating', ascending=True)\n",
    "                                                      .reset_index())\n",
    "print(\"O país que possui, na média, a menor nota média registrada é {}.\".format(df_aux.iloc[0,0]))"
   ]
  },
  {
   "cell_type": "markdown",
   "metadata": {},
   "source": [
    "### 11) Qual a média de preço de um prato para dois por país?"
   ]
  },
  {
   "cell_type": "code",
   "execution_count": 41,
   "metadata": {},
   "outputs": [
    {
     "name": "stdout",
     "output_type": "stream",
     "text": [
      "A média de preço de um prato para dois por país é:\n"
     ]
    },
    {
     "data": {
      "text/html": [
       "<div>\n",
       "<style scoped>\n",
       "    .dataframe tbody tr th:only-of-type {\n",
       "        vertical-align: middle;\n",
       "    }\n",
       "\n",
       "    .dataframe tbody tr th {\n",
       "        vertical-align: top;\n",
       "    }\n",
       "\n",
       "    .dataframe thead th {\n",
       "        text-align: right;\n",
       "    }\n",
       "</style>\n",
       "<table border=\"1\" class=\"dataframe\">\n",
       "  <thead>\n",
       "    <tr style=\"text-align: right;\">\n",
       "      <th></th>\n",
       "      <th>country</th>\n",
       "      <th>currency</th>\n",
       "      <th>average_cost_for_two</th>\n",
       "    </tr>\n",
       "  </thead>\n",
       "  <tbody>\n",
       "    <tr>\n",
       "      <th>0</th>\n",
       "      <td>Indonesia</td>\n",
       "      <td>Indonesian Rupiah(IDR)</td>\n",
       "      <td>303000.000000</td>\n",
       "    </tr>\n",
       "    <tr>\n",
       "      <th>1</th>\n",
       "      <td>Australia</td>\n",
       "      <td>Dollar($)</td>\n",
       "      <td>138959.783333</td>\n",
       "    </tr>\n",
       "    <tr>\n",
       "      <th>2</th>\n",
       "      <td>Sri Lanka</td>\n",
       "      <td>Sri Lankan Rupee(LKR)</td>\n",
       "      <td>2579.375000</td>\n",
       "    </tr>\n",
       "    <tr>\n",
       "      <th>3</th>\n",
       "      <td>Philippines</td>\n",
       "      <td>Botswana Pula(P)</td>\n",
       "      <td>1227.825000</td>\n",
       "    </tr>\n",
       "    <tr>\n",
       "      <th>4</th>\n",
       "      <td>India</td>\n",
       "      <td>Indian Rupees(Rs.)</td>\n",
       "      <td>704.400514</td>\n",
       "    </tr>\n",
       "    <tr>\n",
       "      <th>5</th>\n",
       "      <td>South Africa</td>\n",
       "      <td>Rand(R)</td>\n",
       "      <td>339.228324</td>\n",
       "    </tr>\n",
       "    <tr>\n",
       "      <th>6</th>\n",
       "      <td>Qatar</td>\n",
       "      <td>Qatari Rial(QR)</td>\n",
       "      <td>174.000000</td>\n",
       "    </tr>\n",
       "    <tr>\n",
       "      <th>7</th>\n",
       "      <td>United Arab Emirates</td>\n",
       "      <td>Emirati Diram(AED)</td>\n",
       "      <td>153.716667</td>\n",
       "    </tr>\n",
       "    <tr>\n",
       "      <th>8</th>\n",
       "      <td>Singapure</td>\n",
       "      <td>Dollar($)</td>\n",
       "      <td>141.437500</td>\n",
       "    </tr>\n",
       "    <tr>\n",
       "      <th>9</th>\n",
       "      <td>Brazil</td>\n",
       "      <td>Brazilian Real(R$)</td>\n",
       "      <td>138.812500</td>\n",
       "    </tr>\n",
       "    <tr>\n",
       "      <th>10</th>\n",
       "      <td>Turkey</td>\n",
       "      <td>Turkish Lira(TL)</td>\n",
       "      <td>128.584906</td>\n",
       "    </tr>\n",
       "    <tr>\n",
       "      <th>11</th>\n",
       "      <td>New Zeland</td>\n",
       "      <td>NewZealand($)</td>\n",
       "      <td>62.154812</td>\n",
       "    </tr>\n",
       "    <tr>\n",
       "      <th>12</th>\n",
       "      <td>United States of America</td>\n",
       "      <td>Dollar($)</td>\n",
       "      <td>55.029840</td>\n",
       "    </tr>\n",
       "    <tr>\n",
       "      <th>13</th>\n",
       "      <td>England</td>\n",
       "      <td>Pounds(£)</td>\n",
       "      <td>43.510000</td>\n",
       "    </tr>\n",
       "    <tr>\n",
       "      <th>14</th>\n",
       "      <td>Canada</td>\n",
       "      <td>Dollar($)</td>\n",
       "      <td>41.861111</td>\n",
       "    </tr>\n",
       "  </tbody>\n",
       "</table>\n",
       "</div>"
      ],
      "text/plain": [
       "                     country                currency  average_cost_for_two\n",
       "0                  Indonesia  Indonesian Rupiah(IDR)         303000.000000\n",
       "1                  Australia               Dollar($)         138959.783333\n",
       "2                  Sri Lanka   Sri Lankan Rupee(LKR)           2579.375000\n",
       "3                Philippines        Botswana Pula(P)           1227.825000\n",
       "4                      India      Indian Rupees(Rs.)            704.400514\n",
       "5               South Africa                 Rand(R)            339.228324\n",
       "6                      Qatar         Qatari Rial(QR)            174.000000\n",
       "7       United Arab Emirates      Emirati Diram(AED)            153.716667\n",
       "8                  Singapure               Dollar($)            141.437500\n",
       "9                     Brazil      Brazilian Real(R$)            138.812500\n",
       "10                    Turkey        Turkish Lira(TL)            128.584906\n",
       "11                New Zeland           NewZealand($)             62.154812\n",
       "12  United States of America               Dollar($)             55.029840\n",
       "13                   England               Pounds(£)             43.510000\n",
       "14                    Canada               Dollar($)             41.861111"
      ]
     },
     "metadata": {},
     "output_type": "display_data"
    }
   ],
   "source": [
    "df_aux = (df2.loc[:, ['currency','average_cost_for_two', 'country'] ].groupby('country')\n",
    "                                                          .agg({'average_cost_for_two':'mean',\n",
    "                                                                'currency':'min'})\n",
    "                                                          .sort_values('average_cost_for_two', ascending=False)\n",
    "                                                          .reset_index())\n",
    "df_aux = df_aux.loc[:,['country','currency','average_cost_for_two']]\n",
    "print(\"A média de preço de um prato para dois por país é:\")\n",
    "display(df_aux)"
   ]
  },
  {
   "cell_type": "markdown",
   "metadata": {},
   "source": [
    "## Cidades"
   ]
  },
  {
   "cell_type": "markdown",
   "metadata": {},
   "source": [
    "### 1) Qual o nome da cidade que possui mais restaurantes registrados?"
   ]
  },
  {
   "cell_type": "code",
   "execution_count": 42,
   "metadata": {},
   "outputs": [
    {
     "name": "stdout",
     "output_type": "stream",
     "text": [
      "A cidade que possui mais restaurantes registrados é Abu Dhabi.\n"
     ]
    }
   ],
   "source": [
    "df_aux = (df2.loc[:, ['restaurant_id', 'city'] ].groupby('city')\n",
    "                                                .count()\n",
    "                                                .sort_values('restaurant_id', ascending=False)\n",
    "                                                .reset_index())\n",
    "print(\"A cidade que possui mais restaurantes registrados é {}.\".format(df_aux.iloc[0,0]))"
   ]
  },
  {
   "cell_type": "markdown",
   "metadata": {},
   "source": [
    "### 2) Qual o nome da cidade que possui mais restaurantes com nota média acima de 4?"
   ]
  },
  {
   "cell_type": "code",
   "execution_count": 43,
   "metadata": {},
   "outputs": [
    {
     "name": "stdout",
     "output_type": "stream",
     "text": [
      "A cidade que possui mais restaurantes com nota média acima de 4 é London.\n"
     ]
    }
   ],
   "source": [
    "df_aux = (df2.loc[df2['aggregate_rating'] >= 4, ['restaurant_id', 'city'] ].groupby('city')\n",
    "                                                                 .count()\n",
    "                                                                 .sort_values('restaurant_id', ascending=False)\n",
    "                                                                 .reset_index())\n",
    "print(\"A cidade que possui mais restaurantes com nota média acima de 4 é {}.\".format(df_aux.iloc[0,0]))"
   ]
  },
  {
   "cell_type": "markdown",
   "metadata": {},
   "source": [
    "### 3) Qual o nome da cidade que possui mais restaurantes com nota média abaixo de 2.5?"
   ]
  },
  {
   "cell_type": "code",
   "execution_count": 44,
   "metadata": {},
   "outputs": [
    {
     "name": "stdout",
     "output_type": "stream",
     "text": [
      "A cidade que possui mais restaurantes com nota média abaixo de 2.5 é Gangtok.\n"
     ]
    }
   ],
   "source": [
    "df_aux = (df2.loc[df2['aggregate_rating'] <= 2.5, ['restaurant_id', 'city'] ].groupby('city')\n",
    "                                                                 .count()\n",
    "                                                                 .sort_values('restaurant_id', ascending=False)\n",
    "                                                                 .reset_index())\n",
    "print(\"A cidade que possui mais restaurantes com nota média abaixo de 2.5 é {}.\".format(df_aux.iloc[0,0]))"
   ]
  },
  {
   "cell_type": "markdown",
   "metadata": {},
   "source": [
    "### 4) Qual o nome da cidade que possui o maior valor médio de um prato para dois?"
   ]
  },
  {
   "cell_type": "code",
   "execution_count": 45,
   "metadata": {},
   "outputs": [
    {
     "name": "stdout",
     "output_type": "stream",
     "text": [
      "A cidade que possui o maior valor médio de um prato para dois é Adelaide.\n"
     ]
    }
   ],
   "source": [
    "df_aux = (df2.loc[:, ['average_cost_for_two', 'city'] ].groupby('city')\n",
    "                                                       .mean()\n",
    "                                                       .sort_values('average_cost_for_two', ascending=False)\n",
    "                                                       .reset_index())\n",
    "\n",
    "print(\"A cidade que possui o maior valor médio de um prato para dois é {}.\".format(df_aux.iloc[0,0]))"
   ]
  },
  {
   "cell_type": "markdown",
   "metadata": {},
   "source": [
    "### 5) Qual o nome da cidade que possui a maior quantidade de tipos de culinária distintas?"
   ]
  },
  {
   "cell_type": "code",
   "execution_count": 46,
   "metadata": {},
   "outputs": [
    {
     "name": "stdout",
     "output_type": "stream",
     "text": [
      "A cidade que possui a maior quantidade de tipos de culinária distintas é Birmingham.\n"
     ]
    }
   ],
   "source": [
    "df_aux = (df2.loc[:, ['cuisines', 'city'] ].groupby('city')\n",
    "                                           .nunique()\n",
    "                                           .sort_values('cuisines', ascending=False)\n",
    "                                           .reset_index())\n",
    "print(\"A cidade que possui a maior quantidade de tipos de culinária distintas é {}.\".format(df_aux.iloc[0,0]))"
   ]
  },
  {
   "cell_type": "markdown",
   "metadata": {},
   "source": [
    "### 6) Qual o nome da cidade que possui a maior quantidade de restaurantes que fazem reservas?"
   ]
  },
  {
   "cell_type": "code",
   "execution_count": 47,
   "metadata": {},
   "outputs": [
    {
     "name": "stdout",
     "output_type": "stream",
     "text": [
      "A cidade que possui a maior quantidade de restaurantes que fazem reservas é Bangalore.\n"
     ]
    }
   ],
   "source": [
    "df_aux = (df2.loc[df2['has_table_booking'] == 1, ['restaurant_id', 'city'] ].groupby('city')\n",
    "                                                                     .count()\n",
    "                                                                     .sort_values('restaurant_id', ascending=False)\n",
    "                                                                     .reset_index())\n",
    "\n",
    "print(\"A cidade que possui a maior quantidade de restaurantes que fazem reservas é {}.\".format(df_aux.iloc[0,0]))"
   ]
  },
  {
   "cell_type": "markdown",
   "metadata": {},
   "source": [
    "### 7) Qual o nome da cidade que possui a maior quantidade de restaurantes que fazem entregas?"
   ]
  },
  {
   "cell_type": "code",
   "execution_count": 48,
   "metadata": {},
   "outputs": [
    {
     "name": "stdout",
     "output_type": "stream",
     "text": [
      "A cidade que possui a maior quantidade de restaurantes que fazem entregas é Vadodara.\n"
     ]
    }
   ],
   "source": [
    "df_aux = (df2.loc[df2['is_delivering_now'] == 1, ['restaurant_id', 'city'] ].groupby('city')\n",
    "                                                                 .count()\n",
    "                                                                 .sort_values('restaurant_id', ascending=False)\n",
    "                                                                 .reset_index())\n",
    "print(\"A cidade que possui a maior quantidade de restaurantes que fazem entregas é {}.\".format(df_aux.iloc[0,0]))"
   ]
  },
  {
   "cell_type": "markdown",
   "metadata": {},
   "source": [
    "### 8) Qual o nome da cidade que possui a maior quantidade de restaurantes que aceitam pedidos online?"
   ]
  },
  {
   "cell_type": "code",
   "execution_count": 49,
   "metadata": {},
   "outputs": [
    {
     "name": "stdout",
     "output_type": "stream",
     "text": [
      "A cidade que possui a maior quantidade de restaurantes que aceitam pedidos online é Bhopal.\n"
     ]
    }
   ],
   "source": [
    "df_aux =(df2.loc[df2['has_online_delivery'] == 1, ['restaurant_id', 'city'] ].groupby('city')\n",
    "                                                                     .count()\n",
    "                                                                     .sort_values('restaurant_id', ascending=False)\n",
    "                                                                     .reset_index())\n",
    "print(\"A cidade que possui a maior quantidade de restaurantes que aceitam pedidos online é {}.\".format(df_aux.iloc[0,0]))"
   ]
  },
  {
   "cell_type": "markdown",
   "metadata": {},
   "source": [
    "## Restaurantes"
   ]
  },
  {
   "cell_type": "markdown",
   "metadata": {},
   "source": [
    "### 1) Qual o nome do restaurante que possui a maior quantidade de avaliações?"
   ]
  },
  {
   "cell_type": "code",
   "execution_count": 51,
   "metadata": {},
   "outputs": [
    {
     "name": "stdout",
     "output_type": "stream",
     "text": [
      "O restaurante que possui a maior quantidade de avaliações é Bawarchi.\n"
     ]
    }
   ],
   "source": [
    "cols = ['restaurant_id', 'restaurant_name', 'country', 'city', 'cuisines', 'aggregate_rating', 'votes']\n",
    "\n",
    "df_aux = df2.loc[:, cols].sort_values(['votes', 'restaurant_id'], ascending=[False, True])\n",
    "print(\"O restaurante que possui a maior quantidade de avaliações é {}.\".format(df_aux.iloc[0, 1]))"
   ]
  },
  {
   "cell_type": "markdown",
   "metadata": {},
   "source": [
    "### 2) Qual o nome do restaurante com a maior nota média?"
   ]
  },
  {
   "cell_type": "code",
   "execution_count": 52,
   "metadata": {},
   "outputs": [
    {
     "name": "stdout",
     "output_type": "stream",
     "text": [
      "O restaurante com a maior nota média é Indian Grill Room.\n"
     ]
    }
   ],
   "source": [
    "cols = ['restaurant_id', 'restaurant_name', 'country', 'city', 'cuisines', 'aggregate_rating', 'votes']\n",
    "\n",
    "df_aux = df2.loc[:, cols].sort_values(['aggregate_rating', 'restaurant_id'], ascending=[False, True])\n",
    "print(\"O restaurante com a maior nota média é {}.\".format(df_aux.iloc[0, 1]))"
   ]
  },
  {
   "cell_type": "markdown",
   "metadata": {},
   "source": [
    "### 3) Qual o nome do restaurante que possui o maior valor de uma prato para duas pessoas?"
   ]
  },
  {
   "cell_type": "code",
   "execution_count": 53,
   "metadata": {},
   "outputs": [
    {
     "name": "stdout",
     "output_type": "stream",
     "text": [
      "O restaurante que possui o maior valor de uma prato para duas pessoas é d'Arry's Verandah Restaurant.\n"
     ]
    }
   ],
   "source": [
    "cols = ['restaurant_id', 'restaurant_name', 'country', 'city', 'cuisines', 'average_cost_for_two', 'aggregate_rating', 'votes']\n",
    "\n",
    "df_aux = df2.loc[:, cols].sort_values(['average_cost_for_two', 'restaurant_id'], ascending=[False, True])\n",
    "print(\"O restaurante que possui o maior valor de uma prato para duas pessoas é {}.\".format(df_aux.iloc[0, 1]))"
   ]
  },
  {
   "cell_type": "markdown",
   "metadata": {},
   "source": [
    "### 4) Qual o nome do restaurante de tipo de culinária brasileira que possui a menor média de avaliação?"
   ]
  },
  {
   "cell_type": "code",
   "execution_count": 54,
   "metadata": {},
   "outputs": [
    {
     "name": "stdout",
     "output_type": "stream",
     "text": [
      "O restaurante de tipo de culinária brasileira que possui a menor média de avaliação é d'Arry's Verandah Restaurant.\n"
     ]
    }
   ],
   "source": [
    "cols = ['restaurant_id', 'restaurant_name', 'country', 'city', 'cuisines', 'average_cost_for_two', 'aggregate_rating', 'votes']\n",
    "\n",
    "df_aux = df2.loc[:, cols].sort_values(['average_cost_for_two', 'restaurant_id'], ascending=[False, True])\n",
    "print(\"O restaurante de tipo de culinária brasileira que possui a menor média de avaliação é {}.\".format(df_aux.iloc[0, 1]))"
   ]
  },
  {
   "cell_type": "markdown",
   "metadata": {},
   "source": [
    "### 5) Qual o nome do restaurante de tipo de culinária brasileira, e que é do Brasil, que possui a maior média de avaliação?"
   ]
  },
  {
   "cell_type": "code",
   "execution_count": 56,
   "metadata": {},
   "outputs": [
    {
     "name": "stdout",
     "output_type": "stream",
     "text": [
      "O restaurante de tipo de culinária brasileira, e que é do Brasil, que possui a maior média de avaliação é Oro.\n"
     ]
    }
   ],
   "source": [
    "cols = ['restaurant_id', 'restaurant_name', 'country', 'city', 'cuisines', 'average_cost_for_two', 'aggregate_rating', 'votes']\n",
    "\n",
    "lines = (df2['country'] == 'Brazil') & (df2['cuisines'] == 'Brazilian')\n",
    "\n",
    "df_aux = df2.loc[lines, cols].sort_values(['average_cost_for_two', 'restaurant_id'], ascending=[False, True])\n",
    "print(\"O restaurante de tipo de culinária brasileira, e que é do Brasil, que possui a maior média de avaliação é {}.\".format(df_aux.iloc[0, 1]))"
   ]
  },
  {
   "cell_type": "markdown",
   "metadata": {},
   "source": [
    "### 6) Os restaurantes que aceitam pedido online são também, na média, os restaurantes que mais possuem avaliações registradas?"
   ]
  },
  {
   "cell_type": "code",
   "execution_count": 57,
   "metadata": {},
   "outputs": [
    {
     "name": "stdout",
     "output_type": "stream",
     "text": [
      "Os restaurantes que aceitam pedido online são também, na média, os restaurantes que mais possuem avaliações registradas:\n"
     ]
    },
    {
     "data": {
      "text/html": [
       "<div>\n",
       "<style scoped>\n",
       "    .dataframe tbody tr th:only-of-type {\n",
       "        vertical-align: middle;\n",
       "    }\n",
       "\n",
       "    .dataframe tbody tr th {\n",
       "        vertical-align: top;\n",
       "    }\n",
       "\n",
       "    .dataframe thead th {\n",
       "        text-align: right;\n",
       "    }\n",
       "</style>\n",
       "<table border=\"1\" class=\"dataframe\">\n",
       "  <thead>\n",
       "    <tr style=\"text-align: right;\">\n",
       "      <th></th>\n",
       "      <th>has_online_delivery</th>\n",
       "      <th>votes</th>\n",
       "    </tr>\n",
       "  </thead>\n",
       "  <tbody>\n",
       "    <tr>\n",
       "      <th>0</th>\n",
       "      <td>1</td>\n",
       "      <td>838.821664</td>\n",
       "    </tr>\n",
       "    <tr>\n",
       "      <th>1</th>\n",
       "      <td>0</td>\n",
       "      <td>479.421018</td>\n",
       "    </tr>\n",
       "  </tbody>\n",
       "</table>\n",
       "</div>"
      ],
      "text/plain": [
       "   has_online_delivery       votes\n",
       "0                    1  838.821664\n",
       "1                    0  479.421018"
      ]
     },
     "metadata": {},
     "output_type": "display_data"
    },
    {
     "name": "stdout",
     "output_type": "stream",
     "text": [
      "Como podemos observar no quadro acima realmente são eles.\n"
     ]
    }
   ],
   "source": [
    "df_aux = (df2.loc[:, ['votes', 'has_online_delivery'] ].groupby('has_online_delivery')\n",
    "                                                       .mean()\n",
    "                                                       .sort_values('votes', ascending=False)\n",
    "                                                       .reset_index())\n",
    "print('Os restaurantes que aceitam pedido online são também, na média, os restaurantes que mais possuem avaliações registradas:')\n",
    "display(df_aux)\n",
    "print('Como podemos observar no quadro acima realmente são eles.')"
   ]
  },
  {
   "cell_type": "markdown",
   "metadata": {},
   "source": [
    "### 7) Os restaurantes que fazem reservas são também, na média, os restaurantes que possuem o maior valor médio de um prato para duas pessoas?"
   ]
  },
  {
   "cell_type": "code",
   "execution_count": 58,
   "metadata": {},
   "outputs": [
    {
     "name": "stdout",
     "output_type": "stream",
     "text": [
      "Os restaurantes que fazem reservas são também, na média, os restaurantes que possuem o maior valor médio de um prato para duas pessoas:\n"
     ]
    },
    {
     "data": {
      "text/html": [
       "<div>\n",
       "<style scoped>\n",
       "    .dataframe tbody tr th:only-of-type {\n",
       "        vertical-align: middle;\n",
       "    }\n",
       "\n",
       "    .dataframe tbody tr th {\n",
       "        vertical-align: top;\n",
       "    }\n",
       "\n",
       "    .dataframe thead th {\n",
       "        text-align: right;\n",
       "    }\n",
       "</style>\n",
       "<table border=\"1\" class=\"dataframe\">\n",
       "  <thead>\n",
       "    <tr style=\"text-align: right;\">\n",
       "      <th></th>\n",
       "      <th>has_table_booking</th>\n",
       "      <th>average_cost_for_two</th>\n",
       "    </tr>\n",
       "  </thead>\n",
       "  <tbody>\n",
       "    <tr>\n",
       "      <th>0</th>\n",
       "      <td>1</td>\n",
       "      <td>69998.423810</td>\n",
       "    </tr>\n",
       "    <tr>\n",
       "      <th>1</th>\n",
       "      <td>0</td>\n",
       "      <td>3488.596866</td>\n",
       "    </tr>\n",
       "  </tbody>\n",
       "</table>\n",
       "</div>"
      ],
      "text/plain": [
       "   has_table_booking  average_cost_for_two\n",
       "0                  1          69998.423810\n",
       "1                  0           3488.596866"
      ]
     },
     "metadata": {},
     "output_type": "display_data"
    },
    {
     "name": "stdout",
     "output_type": "stream",
     "text": [
      "Como podemos observar no quadro acima realmente são eles.\n"
     ]
    }
   ],
   "source": [
    "df_aux = (df2.loc[:, ['average_cost_for_two', 'has_table_booking'] ].groupby('has_table_booking')\n",
    "                                                                    .mean()\n",
    "                                                                    .sort_values('average_cost_for_two', ascending=False)\n",
    "                                                                    .reset_index())\n",
    "print('Os restaurantes que fazem reservas são também, na média, os restaurantes que possuem o maior valor médio de um prato para duas pessoas:')\n",
    "display(df_aux)\n",
    "print('Como podemos observar no quadro acima realmente são eles.')"
   ]
  },
  {
   "cell_type": "markdown",
   "metadata": {},
   "source": [
    "### 8. Os restaurantes do tipo de culinária japonesa dos Estados Unidos da América possuem um valor médio de prato para duas pessoas maior que as churrascarias americanas (BBQ)?"
   ]
  },
  {
   "cell_type": "code",
   "execution_count": 60,
   "metadata": {},
   "outputs": [
    {
     "name": "stdout",
     "output_type": "stream",
     "text": [
      "Os restaurantes do tipo de culinária japonesa dos Estados Unidos da América possuem um valor médio de prato para duas pessoas maior que as churrascarias americanas (BBQ):\n"
     ]
    },
    {
     "data": {
      "text/html": [
       "<div>\n",
       "<style scoped>\n",
       "    .dataframe tbody tr th:only-of-type {\n",
       "        vertical-align: middle;\n",
       "    }\n",
       "\n",
       "    .dataframe tbody tr th {\n",
       "        vertical-align: top;\n",
       "    }\n",
       "\n",
       "    .dataframe thead th {\n",
       "        text-align: right;\n",
       "    }\n",
       "</style>\n",
       "<table border=\"1\" class=\"dataframe\">\n",
       "  <thead>\n",
       "    <tr style=\"text-align: right;\">\n",
       "      <th></th>\n",
       "      <th>cuisines</th>\n",
       "      <th>average_cost_for_two</th>\n",
       "    </tr>\n",
       "  </thead>\n",
       "  <tbody>\n",
       "    <tr>\n",
       "      <th>0</th>\n",
       "      <td>Japanese</td>\n",
       "      <td>56.406250</td>\n",
       "    </tr>\n",
       "    <tr>\n",
       "      <th>1</th>\n",
       "      <td>BBQ</td>\n",
       "      <td>39.642857</td>\n",
       "    </tr>\n",
       "  </tbody>\n",
       "</table>\n",
       "</div>"
      ],
      "text/plain": [
       "   cuisines  average_cost_for_two\n",
       "0  Japanese             56.406250\n",
       "1       BBQ             39.642857"
      ]
     },
     "metadata": {},
     "output_type": "display_data"
    },
    {
     "name": "stdout",
     "output_type": "stream",
     "text": [
      "Como podemos observar no quadro acima realmente possuem.\n"
     ]
    }
   ],
   "source": [
    "lines = (df2['country'] == 'United States of America') & ((df2['cuisines'] == 'BBQ') | (df2['cuisines'] == 'Japanese'))\n",
    "\n",
    "df_aux = (df2.loc[lines, ['average_cost_for_two', 'cuisines'] ].groupby('cuisines')\n",
    "                                                               .mean()\n",
    "                                                               .sort_values('average_cost_for_two', ascending=False)\n",
    "                                                               .reset_index())\n",
    "print('Os restaurantes do tipo de culinária japonesa dos Estados Unidos da América possuem um valor médio de prato para duas pessoas maior que as churrascarias americanas (BBQ):')\n",
    "display(df_aux)\n",
    "print('Como podemos observar no quadro acima realmente possuem.')"
   ]
  },
  {
   "cell_type": "markdown",
   "metadata": {},
   "source": [
    "## Tipo de Colunária"
   ]
  },
  {
   "cell_type": "markdown",
   "metadata": {},
   "source": [
    "### 1) Dos restaurantes que possuem o tipo de culinária italiana, qual o nome do restaurante com a maior média de avaliação?"
   ]
  },
  {
   "cell_type": "code",
   "execution_count": 61,
   "metadata": {},
   "outputs": [
    {
     "name": "stdout",
     "output_type": "stream",
     "text": [
      "Dos restaurantes que possuem o tipo de culinária italiana, o restaurante com a maior média de avaliação é Darshan.\n"
     ]
    }
   ],
   "source": [
    "cols = ['restaurant_id', 'restaurant_name', 'country', 'city', 'cuisines', 'average_cost_for_two', 'aggregate_rating', 'votes']\n",
    "\n",
    "lines = (df2['cuisines'] == 'Italian')\n",
    "\n",
    "df_aux = df2.loc[lines, cols].sort_values(['aggregate_rating', 'restaurant_id'], ascending=[False, True])\n",
    "print(\"Dos restaurantes que possuem o tipo de culinária italiana, o restaurante com a maior média de avaliação é {}.\".format(df_aux.iloc[0, 1]))"
   ]
  },
  {
   "cell_type": "markdown",
   "metadata": {},
   "source": [
    "### 2) Dos restaurantes que possuem o tipo de culinária italiana, qual o nome do restaurante com a menor média de avaliação?"
   ]
  },
  {
   "cell_type": "code",
   "execution_count": 62,
   "metadata": {},
   "outputs": [
    {
     "name": "stdout",
     "output_type": "stream",
     "text": [
      "Dos restaurantes que possuem o tipo de culinária italiana, o restaurante com a menor média de avaliação é Avenida Paulista.\n"
     ]
    }
   ],
   "source": [
    "cols = ['restaurant_id', 'restaurant_name', 'country', 'city', 'cuisines', 'average_cost_for_two', 'aggregate_rating', 'votes']\n",
    "\n",
    "lines = (df2['cuisines'] == 'Italian')\n",
    "\n",
    "df_aux = df2.loc[lines, cols].sort_values(['aggregate_rating', 'restaurant_id'], ascending=[True, True])\n",
    "print(\"Dos restaurantes que possuem o tipo de culinária italiana, o restaurante com a menor média de avaliação é {}.\".format(df_aux.iloc[0, 1]))"
   ]
  },
  {
   "cell_type": "markdown",
   "metadata": {},
   "source": [
    "### 3) Dos restaurantes que possuem o tipo de culinária americana, qual o nome do restaurante com a maior média de avaliação?"
   ]
  },
  {
   "cell_type": "code",
   "execution_count": 64,
   "metadata": {},
   "outputs": [
    {
     "name": "stdout",
     "output_type": "stream",
     "text": [
      "Dos restaurantes que possuem o tipo de culinária americana, o restaurante com a maior média de avaliação é Burger & Lobster.\n"
     ]
    }
   ],
   "source": [
    "cols = ['restaurant_id', 'restaurant_name', 'country', 'city', 'cuisines', 'average_cost_for_two', 'aggregate_rating', 'votes']\n",
    "\n",
    "lines = (df2['cuisines'] == 'American')\n",
    "\n",
    "df_aux = df2.loc[lines, cols].sort_values(['aggregate_rating', 'restaurant_id'], ascending=[False, True])\n",
    "print(\"Dos restaurantes que possuem o tipo de culinária americana, o restaurante com a maior média de avaliação é {}.\".format(df_aux.iloc[0, 1]))"
   ]
  },
  {
   "cell_type": "markdown",
   "metadata": {},
   "source": [
    "### 4) Dos restaurantes que possuem o tipo de culinária americana, qual o nome do restaurante com a menor média de avaliação?"
   ]
  },
  {
   "cell_type": "code",
   "execution_count": 65,
   "metadata": {},
   "outputs": [
    {
     "name": "stdout",
     "output_type": "stream",
     "text": [
      "Dos restaurantes que possuem o tipo de culinária americana, o restaurante com a menor média de avaliação é Alston Bar & Beef.\n"
     ]
    }
   ],
   "source": [
    "cols = ['restaurant_id', 'restaurant_name', 'country','city', 'cuisines', 'average_cost_for_two', 'aggregate_rating', 'votes']\n",
    "\n",
    "lines = (df2['cuisines'] == 'American')\n",
    "\n",
    "df_aux = df2.loc[lines, cols].sort_values(['aggregate_rating', 'restaurant_id'], ascending=[True, True])\n",
    "print(\"Dos restaurantes que possuem o tipo de culinária americana, o restaurante com a menor média de avaliação é {}.\".format(df_aux.iloc[0, 1]))"
   ]
  },
  {
   "cell_type": "markdown",
   "metadata": {},
   "source": [
    "### 5) Dos restaurantes que possuem o tipo de culinária árabe, qual o nome do restaurante com a maior média de avaliação?"
   ]
  },
  {
   "cell_type": "code",
   "execution_count": 66,
   "metadata": {},
   "outputs": [
    {
     "name": "stdout",
     "output_type": "stream",
     "text": [
      "Dos restaurantes que possuem o tipo de culinária árabe, o restaurante com a maior média de avaliação é Mandi@36.\n"
     ]
    }
   ],
   "source": [
    "cols = ['restaurant_id', 'restaurant_name', 'country', 'city', 'cuisines', 'average_cost_for_two','aggregate_rating', 'votes']\n",
    "\n",
    "lines = (df2['cuisines'] == 'Arabian')\n",
    "\n",
    "df_aux = df2.loc[lines, cols].sort_values(['aggregate_rating', 'restaurant_id'], ascending=[False, True])\n",
    "print(\"Dos restaurantes que possuem o tipo de culinária árabe, o restaurante com a maior média de avaliação é {}.\".format(df_aux.iloc[0, 1]))"
   ]
  },
  {
   "cell_type": "markdown",
   "metadata": {},
   "source": [
    "### 6) Dos restaurantes que possuem o tipo de culinária árabe, qual o nome do restaurante com a menor média de avaliação?"
   ]
  },
  {
   "cell_type": "code",
   "execution_count": 67,
   "metadata": {},
   "outputs": [
    {
     "name": "stdout",
     "output_type": "stream",
     "text": [
      "Dos restaurantes que possuem o tipo de culinária árabe, o restaurante com a menor média de avaliação é Raful.\n"
     ]
    }
   ],
   "source": [
    "cols = ['restaurant_id', 'restaurant_name', 'country', 'city', 'cuisines', 'average_cost_for_two', 'aggregate_rating', 'votes']\n",
    "\n",
    "lines = (df2['cuisines'] == 'Arabian')\n",
    "\n",
    "df_aux = df2.loc[lines, cols].sort_values(['aggregate_rating', 'restaurant_id'], ascending=[True, True])\n",
    "print(\"Dos restaurantes que possuem o tipo de culinária árabe, o restaurante com a menor média de avaliação é {}.\".format(df_aux.iloc[0, 1]))"
   ]
  },
  {
   "cell_type": "markdown",
   "metadata": {},
   "source": [
    "### 7) Dos restaurantes que possuem o tipo de culinária japonesa, qual o nome do restaurante com a maior média de avaliação?"
   ]
  },
  {
   "cell_type": "code",
   "execution_count": 68,
   "metadata": {},
   "outputs": [
    {
     "name": "stdout",
     "output_type": "stream",
     "text": [
      "Dos restaurantes que possuem o tipo de culinária japonesa, o restaurante com a maior média de avaliação é Sushi Samba.\n"
     ]
    }
   ],
   "source": [
    "cols = ['restaurant_id', 'restaurant_name', 'country', 'city', 'cuisines', 'average_cost_for_two', 'aggregate_rating', 'votes']\n",
    "\n",
    "lines = (df2['cuisines'] == 'Japanese')\n",
    "\n",
    "df_aux = df2.loc[lines, cols].sort_values(['aggregate_rating', 'restaurant_id'], ascending=[False, True])\n",
    "print(\"Dos restaurantes que possuem o tipo de culinária japonesa, o restaurante com a maior média de avaliação é {}.\".format(df_aux.iloc[0, 1]))"
   ]
  },
  {
   "cell_type": "markdown",
   "metadata": {},
   "source": [
    "### 8) Dos restaurantes que possuem o tipo de culinária japonesa, qual o nome do restaurante com a menor média de avaliação?"
   ]
  },
  {
   "cell_type": "code",
   "execution_count": 70,
   "metadata": {},
   "outputs": [
    {
     "name": "stdout",
     "output_type": "stream",
     "text": [
      "Dos restaurantes que possuem o tipo de culinária japonesa, o restaurante com a menor média de avaliação é Banzai Sushi.\n"
     ]
    }
   ],
   "source": [
    "cols = ['restaurant_id', 'restaurant_name', 'country','city', 'cuisines', 'average_cost_for_two','aggregate_rating', 'votes']\n",
    "\n",
    "lines = (df2['cuisines'] == 'Japanese')\n",
    "\n",
    "df_aux = df2.loc[lines, cols].sort_values(['aggregate_rating', 'restaurant_id'], ascending=[True, True])\n",
    "print(\"Dos restaurantes que possuem o tipo de culinária japonesa, o restaurante com a menor média de avaliação é {}.\".format(df_aux.iloc[0, 1]))"
   ]
  },
  {
   "cell_type": "markdown",
   "metadata": {},
   "source": [
    "### 9) Dos restaurantes que possuem o tipo de culinária caseira, qual o nome do restaurante com a maior média de avaliação?"
   ]
  },
  {
   "cell_type": "code",
   "execution_count": 71,
   "metadata": {},
   "outputs": [
    {
     "name": "stdout",
     "output_type": "stream",
     "text": [
      "Dos restaurantes que possuem o tipo de culinária caseira, o restaurante com a maior média de avaliação é Kanaat Lokantası.\n"
     ]
    }
   ],
   "source": [
    "cols = ['restaurant_id', 'restaurant_name', 'country','city', 'cuisines', 'average_cost_for_two', 'aggregate_rating', 'votes']\n",
    "\n",
    "lines = (df2['cuisines'] == 'Home-made')\n",
    "\n",
    "df_aux = df2.loc[lines, cols].sort_values(['aggregate_rating', 'restaurant_id'], ascending=[False, True])\n",
    "print(\"Dos restaurantes que possuem o tipo de culinária caseira, o restaurante com a maior média de avaliação é {}.\".format(df_aux.iloc[0, 1]))"
   ]
  },
  {
   "cell_type": "markdown",
   "metadata": {},
   "source": [
    "### 10) Dos restaurantes que possuem o tipo de culinária caseira, qual o nome do restaurante com a menor média de avaliação?"
   ]
  },
  {
   "cell_type": "code",
   "execution_count": 72,
   "metadata": {},
   "outputs": [
    {
     "name": "stdout",
     "output_type": "stream",
     "text": [
      "Dos restaurantes que possuem o tipo de culinária caseira, o restaurante com a menor média de avaliação é GurMekan Restaurant.\n"
     ]
    }
   ],
   "source": [
    "cols = ['restaurant_id', 'restaurant_name', 'country', 'city', 'cuisines', 'average_cost_for_two', 'aggregate_rating', 'votes']\n",
    "\n",
    "lines = (df2['cuisines'] == 'Home-made')\n",
    "\n",
    "df_aux = df2.loc[lines, cols].sort_values(['aggregate_rating', 'restaurant_id'], ascending=[True, True])\n",
    "print(\"Dos restaurantes que possuem o tipo de culinária caseira, o restaurante com a menor média de avaliação é {}.\".format(df_aux.iloc[0, 1]))"
   ]
  },
  {
   "cell_type": "markdown",
   "metadata": {},
   "source": [
    "### 11) Qual o tipo de culinária que possui o maior valor médio de um prato para duas pessoas?"
   ]
  },
  {
   "cell_type": "code",
   "execution_count": 75,
   "metadata": {},
   "outputs": [
    {
     "name": "stdout",
     "output_type": "stream",
     "text": [
      "O tipo de culinária que possui o maior valor médio de um prato para duas pessoas é Modern Australian.\n"
     ]
    }
   ],
   "source": [
    "df_aux = (df2.loc[:, ['average_cost_for_two', 'cuisines'] ].groupby('cuisines')\n",
    "                                                  .max()\n",
    "                                                  .sort_values('average_cost_for_two', ascending=False)\n",
    "                                                  .reset_index())\n",
    "print(\"O tipo de culinária que possui o maior valor médio de um prato para duas pessoas é {}.\".format(df_aux.iloc[0, 0]))"
   ]
  },
  {
   "cell_type": "markdown",
   "metadata": {},
   "source": [
    "### 12) Qual o tipo de culinária que possui a maior nota média?"
   ]
  },
  {
   "cell_type": "code",
   "execution_count": 76,
   "metadata": {},
   "outputs": [
    {
     "name": "stdout",
     "output_type": "stream",
     "text": [
      "O tipo de culinária que possui a maior nota média é Indian.\n"
     ]
    }
   ],
   "source": [
    "df_aux = (df2.loc[:, ['aggregate_rating', 'cuisines'] ].groupby('cuisines')\n",
    "                                                       .max()\n",
    "                                                       .sort_values('aggregate_rating', ascending=False)\n",
    "                                                       .reset_index())\n",
    "print(\"O tipo de culinária que possui a maior nota média é {}.\".format(df_aux.iloc[0, 0]))"
   ]
  },
  {
   "cell_type": "markdown",
   "metadata": {},
   "source": [
    "### 13) Qual o tipo de culinária que possui mais restaurantes que aceitam pedidos online e fazem entregas?"
   ]
  },
  {
   "cell_type": "code",
   "execution_count": 77,
   "metadata": {},
   "outputs": [
    {
     "name": "stdout",
     "output_type": "stream",
     "text": [
      "O tipo de culinária que possui mais restaurantes que aceitam pedidos online e fazem entregas é North Indian.\n"
     ]
    }
   ],
   "source": [
    "lines = (df2['has_online_delivery'] == 1) & (df2['is_delivering_now'] == 1)\n",
    "\n",
    "df_aux = (df2.loc[:, ['restaurant_id', 'cuisines'] ].groupby('cuisines')\n",
    "                                                    .count()\n",
    "                                                    .sort_values('restaurant_id', ascending=False)\n",
    "                                                    .reset_index())\n",
    "print(\"O tipo de culinária que possui mais restaurantes que aceitam pedidos online e fazem entregas é {}.\".format(df_aux.iloc[0, 0]))"
   ]
  },
  {
   "cell_type": "markdown",
   "metadata": {},
   "source": []
  }
 ],
 "metadata": {
  "kernelspec": {
   "display_name": "Python 3 (ipykernel)",
   "language": "python",
   "name": "python3"
  },
  "language_info": {
   "codemirror_mode": {
    "name": "ipython",
    "version": 3
   },
   "file_extension": ".py",
   "mimetype": "text/x-python",
   "name": "python",
   "nbconvert_exporter": "python",
   "pygments_lexer": "ipython3",
   "version": "3.8.15"
  },
  "vscode": {
   "interpreter": {
    "hash": "b12a8bdec35d2e847661d9e6f531db0e6e771c195c35d0089068981192007f0f"
   }
  },
  "widgets": {
   "application/vnd.jupyter.widget-state+json": {
    "state": {},
    "version_major": 2,
    "version_minor": 0
   }
  }
 },
 "nbformat": 4,
 "nbformat_minor": 4
}
